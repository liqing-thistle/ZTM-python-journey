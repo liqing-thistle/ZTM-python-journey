{
 "cells": [
  {
   "cell_type": "markdown",
   "id": "e7a5231b-fb5c-4d70-b1bf-6d4bfb33198c",
   "metadata": {},
   "source": [
    "## 01 Python Basics"
   ]
  },
  {
   "cell_type": "code",
   "execution_count": null,
   "id": "4387e7e5-e5e6-4013-8d53-075bda602996",
   "metadata": {},
   "outputs": [],
   "source": [
    "## check python version\n",
    "import sys\n",
    "print(sys.version)"
   ]
  },
  {
   "cell_type": "markdown",
   "id": "523f8782-3e46-4c1b-9a9b-8e6bace03b56",
   "metadata": {},
   "source": [
    "&nbsp;"
   ]
  },
  {
   "cell_type": "markdown",
   "id": "af12a14f-dfb3-4d1e-833e-f87a51b4c4a4",
   "metadata": {},
   "source": [
    "### 0. Basics"
   ]
  },
  {
   "cell_type": "markdown",
   "id": "c8c9751c-de6d-49c3-9fba-92f324a8248e",
   "metadata": {},
   "source": [
    "#### 0.1 Math funcitons"
   ]
  },
  {
   "cell_type": "code",
   "execution_count": null,
   "id": "39d475f3-cbae-4ba1-981b-3c346e117e2c",
   "metadata": {
    "scrolled": true
   },
   "outputs": [],
   "source": [
    "print(2+2)\n",
    "print(4-2)\n",
    "print(2*2)\n",
    "print(4/2)\n",
    "print(2**3)  # power\n",
    "print(6//4)  # floor division: returns the integer part\n",
    "print(6%4)  # modulus: returns the remainder\n",
    "print(round(3.5))  # 3.5 will be round up to 4, while 3.4 will be round down to 3.\n",
    "print(abs(-1))  # absolute value"
   ]
  },
  {
   "cell_type": "markdown",
   "id": "90ff8f08-e27e-4fe7-bea0-2db429620128",
   "metadata": {},
   "source": [
    "#### 0.2 Operator precedence\n",
    "##### ( )\n",
    "#### **\n",
    "#### * /\n",
    "#### + -"
   ]
  },
  {
   "cell_type": "markdown",
   "id": "e5d4f568-1270-46c4-a2ed-19feeddacd9d",
   "metadata": {},
   "source": [
    "#### 0.3 Variables\n",
    "- Expression: a piece of code to produce a value;\n",
    "  eg. **3 + 5**\n",
    "- Statement: an entire line of code\n",
    "  eg. **a = 3 + 5**"
   ]
  },
  {
   "cell_type": "code",
   "execution_count": null,
   "id": "731bf690-5c0d-40d9-9492-d4952517b6e5",
   "metadata": {},
   "outputs": [],
   "source": [
    "a, b, c = 4, 5, 6\n",
    "print(c)"
   ]
  },
  {
   "cell_type": "markdown",
   "id": "c1d136d6-ad4e-4704-a1f5-4fcb6f1e50f0",
   "metadata": {},
   "source": [
    "&nbsp;"
   ]
  },
  {
   "cell_type": "markdown",
   "id": "a8d78ba4-4322-405b-8868-6ff2c5c2ebcb",
   "metadata": {},
   "source": [
    "### 1. Fundamental data types"
   ]
  },
  {
   "cell_type": "markdown",
   "id": "f50e9a6b-dc1f-4c9c-924d-ba61c770cd14",
   "metadata": {},
   "source": [
    "#### 1.1 Numbers"
   ]
  },
  {
   "cell_type": "markdown",
   "id": "9559c689-a5c8-4a94-a1e0-2a17a335643e",
   "metadata": {},
   "source": [
    "#### 1) int"
   ]
  },
  {
   "cell_type": "code",
   "execution_count": null,
   "id": "5b2fac1a-2b14-4697-8e1e-fc002941dcb5",
   "metadata": {},
   "outputs": [],
   "source": [
    "print(type(6))"
   ]
  },
  {
   "cell_type": "code",
   "execution_count": null,
   "id": "8bf16677-ccf7-4a23-8065-706eab270cc8",
   "metadata": {},
   "outputs": [],
   "source": [
    "print(bin(6)) # binary representation\n",
    "print(int('0b110', 2))  # convert 0b110 at the base of 2"
   ]
  },
  {
   "cell_type": "markdown",
   "id": "ba1e25fa-e94e-42aa-baa4-0da7a1c9dfe9",
   "metadata": {},
   "source": [
    "#### 2) float"
   ]
  },
  {
   "cell_type": "code",
   "execution_count": null,
   "id": "fc02c7b6-ec58-4f7b-9f23-feba6b5db25a",
   "metadata": {},
   "outputs": [],
   "source": [
    "print(type(9.77))\n",
    "print(type(1.1 + 2.9))   # this output is 4.0"
   ]
  },
  {
   "cell_type": "markdown",
   "id": "8ff764e8-7383-43b5-93b0-fa773f1f8c05",
   "metadata": {},
   "source": [
    "#### 3) complex numbers\n",
    "real part + imaginary part\n",
    "eg. z = 3 + 4j"
   ]
  },
  {
   "cell_type": "markdown",
   "id": "a83baacd-6480-42de-9605-5845ed1bd9e6",
   "metadata": {},
   "source": [
    "&nbsp;"
   ]
  },
  {
   "cell_type": "markdown",
   "id": "1e0d1417-43c2-4405-8272-bbef1eba3a05",
   "metadata": {},
   "source": [
    "#### 1.2 Strings\n",
    "- **Long string**: **'''  '''**\n",
    "- **String concatenation**: 'hello' **+** 'Boniuniu'\n",
    "- **Escape sequence**:a special combination of characters starting with a backslash \\ that represents something that cannot be typed directly.<br>\n",
    "  **\\'** &nbsp; single quote<br>\n",
    "  **\\t** &nbsp; tab<br>\n",
    "  **\\n** &nbsp;new line<br>\n",
    "- **Formated string**: **f**'Hi **{**\\variable1 **}**, you are **{** variable 2 **}** years old.'\n",
    "- **String indexes**:<br>\n",
    "  - start at 0. string<b>[</b> 0 <b>]</b><br>\n",
    "   - **string[start:stop]**: the value at stop not included.<br>\n",
    "   - **string[start:stop:stepover]**: string slicing<br>\n",
    "   - **string[start:]**: ends at wherever string ends<br>\n",
    "   - **string[:stop]**: start at the begining of the string<br>\n",
    "   - **sting[-index]**: negative index-starts at the end of the string<br>\n",
    "    **string[::-1]**: reverse the order of the string<br>\n",
    "- String doesn't support partial reassignment (**strings are immutable**, you cannot change part of string directly), eg. ss[0] = '9'\n",
    "- **Functions**: resuable code that is not tied to an object.<br>\n",
    "   - **len()**: check the length of the string.\n",
    "- **Methods**: a function that is associated with an object, called using dot.<br>\n",
    "  - **.format()**<br>\n",
    "  - **.capitalize()**<br>\n",
    "  - **.lower()**<br>\n",
    "  "
   ]
  },
  {
   "cell_type": "code",
   "execution_count": null,
   "id": "2ff5d01f-65a0-4136-b41b-121aafa9f306",
   "metadata": {},
   "outputs": [],
   "source": [
    "name = input('what is your name?')\n",
    "hello = 'Hello '\n",
    "print(hello + name)"
   ]
  },
  {
   "cell_type": "code",
   "execution_count": null,
   "id": "98c013af-7ae3-4040-8101-024cba10c13f",
   "metadata": {},
   "outputs": [],
   "source": [
    "long_string = '''   \n",
    "^ ^\n",
    " ^\n",
    "'''\n",
    "print(long_string)    # ''' ''' can be used for multiple-line long string"
   ]
  },
  {
   "cell_type": "code",
   "execution_count": null,
   "id": "32a1fba9-522e-403f-984b-2991472475bc",
   "metadata": {},
   "outputs": [],
   "source": [
    "print('It\\'s sunny today')"
   ]
  },
  {
   "cell_type": "code",
   "execution_count": null,
   "id": "f4792885-34de-4732-8d48-78345286621c",
   "metadata": {},
   "outputs": [],
   "source": [
    "name = input('what is your name?')\n",
    "age = input('what is your age?')\n",
    "print(f'{name} is {age} years old')"
   ]
  },
  {
   "cell_type": "code",
   "execution_count": null,
   "id": "ffb32022-3dba-4b3b-b516-6d092eafc9fb",
   "metadata": {},
   "outputs": [],
   "source": [
    "string = str(12345678)\n",
    "print(string[0])\n",
    "print(string[0:3])\n",
    "print(string[::2])\n",
    "print(string[::-1])"
   ]
  },
  {
   "cell_type": "code",
   "execution_count": null,
   "id": "f20d0bcc-6ccf-479c-9e37-73b6935547b5",
   "metadata": {
    "scrolled": true
   },
   "outputs": [],
   "source": [
    "ss = '56772'\n",
    "ss[0] = '9'\n",
    "print(ss)"
   ]
  },
  {
   "cell_type": "markdown",
   "id": "b4c059cf-011e-45f4-a4d0-60ce1a0d00d6",
   "metadata": {},
   "source": [
    "&nbsp;"
   ]
  },
  {
   "cell_type": "markdown",
   "id": "410886b1-648c-4808-b611-e1b0ca67005b",
   "metadata": {},
   "source": [
    "#### 1.3 Booleans\n",
    "- True or False <br>\n",
    "- **bool()** returns **False** for the following: <br>\n",
    "```\n",
    "bool(False)        # False<br>\n",
    "bool(None)         # False<br>\n",
    "bool(0)            # False<br>\n",
    "bool(0.0)          # False<br>\n",
    "bool('')           # False (empty string)<br>\n",
    "bool([])           # False (empty list)<br>\n",
    "bool(())           # False (empty tuple)<br>\n",
    "bool({})           # False (empty dict)<br>\n",
    "bool(set())        # False (empty set)<br>\n",
    "```\n",
    "- bool() returns True for everything else except mentioned above<br>\n"
   ]
  },
  {
   "cell_type": "code",
   "execution_count": null,
   "id": "73823e29-f5e8-4f7a-a45a-e6b81598ee49",
   "metadata": {},
   "outputs": [],
   "source": [
    "print(bool(-1))"
   ]
  },
  {
   "cell_type": "markdown",
   "id": "0af2e28e-c9a4-45bd-979f-0638ef2d4c02",
   "metadata": {},
   "source": [
    "&nbsp;"
   ]
  },
  {
   "cell_type": "markdown",
   "id": "924f2799-cac8-4cea-9f84-b4f1a3048d1d",
   "metadata": {},
   "source": [
    "#### 1.4 Lists\n",
    "- **List slicing**:<br>\n",
    "  **list[start:stop:step]** (stop will not be included; negative step means going backward) <br>\n",
    "  **lsit[: : -1]**: reverse a list. <br>\n",
    "  **list[:]** : select the entire list.\n",
    "- **Lists are          mutable.**\n",
    "- **Matrix**: two-dimensional lists(rows and columns). **matrix[row][column]**\n",
    "- **Methods**:\n",
    "  - list **.append(value)**: add a single element to the list.\n",
    "  - list **.insert(index, item)**\n",
    "  - list **.extend()**: takes an iterable (like a list, tuple, or string) and adds each element individually to the list.\n",
    "  - list **.pop(position_index)**: remove a single element, and return the removed element.\n",
    "  - list **.clear()**: remove all elements, and return None.\n",
    "  - list **.index(value)**: return the index of the first occurence of the given value.\n",
    "  - list **.count(value)**: count how many times the given value appeared in the list.\n",
    "  - list **.sort()**: sort the list and changed the order of orginal list. (sorted function will not change the orginal list)\n",
    "    - sort in ascending order by default.\n",
    "    - sort in descending order: **.sort(reverse=True**)\n",
    "  - list **.copy()**: creates a copy of the list.\n",
    "  - list **.reverse()**: reverse the order of the list.   which equals to   list[: : -1]\n",
    "\n",
    "- **Common list pattern**<br>\n",
    "  - **list[: : -1]**: reverse a list.\n",
    "  - **list(range(10))**: create a list with range.\n",
    "  - **''.join(iterable)**: join elements of the iterable like a list of strings using the ' ' as the separator, returns a single string.\n",
    "\n",
    "- **List unpacking**: \n",
    "a, b, c, <b>*</b>other = [1,2,3,4,5]\n"
   ]
  },
  {
   "cell_type": "code",
   "execution_count": null,
   "id": "fb312979-2772-4559-87d1-91eb4ea0fd71",
   "metadata": {},
   "outputs": [],
   "source": [
    "shopping_cart = ['milk', 'eggs', 'wine']\n",
    "print(shopping_cart[0])\n",
    "# new_cart = shopping_cart  this make the two carts always the same\n",
    "new_cart = shopping_cart[:] # this copy the shopping_cart to the new_cart, but not change the shopping_cart.\n",
    "new_cart[0] = 'tomato'\n",
    "print(new_cart)\n",
    "print(shopping_cart)"
   ]
  },
  {
   "cell_type": "code",
   "execution_count": null,
   "id": "6c4c7713-ea07-42d0-b78c-8853e2063120",
   "metadata": {},
   "outputs": [],
   "source": [
    "matrix = [\n",
    "    [1,2,3],\n",
    "    [4,5,6],\n",
    "    [7,8,9]\n",
    "]\n",
    "print(matrix[1][1])"
   ]
  },
  {
   "cell_type": "code",
   "execution_count": null,
   "id": "413d283e-dca9-4c55-8a19-6b963188b3c6",
   "metadata": {},
   "outputs": [],
   "source": [
    "mylist = [2,3,5,6,7]\n",
    "mylist.append(100)\n",
    "print(mylist)\n",
    "\n",
    "mylist.insert(4, 200)\n",
    "print(mylist)\n",
    "\n",
    "mylist.extend([1,1,1])\n",
    "print(mylist)"
   ]
  },
  {
   "cell_type": "code",
   "execution_count": null,
   "id": "a6899c2a-a147-4882-a531-321e0443b09d",
   "metadata": {},
   "outputs": [],
   "source": [
    "list2 = [3,6,8,9,7]\n",
    "list2.pop()  # remove the last element\n",
    "print(list2)\n",
    "\n",
    "list2.pop(0) # remove the element at index 0\n",
    "print(list2)\n",
    "\n",
    "new_list1 = list2.pop(1) # .pop() returns the removed element\n",
    "print(list2)\n",
    "print(new_list1)\n",
    "\n",
    "new_list2 = list2.clear() # remove all elements and return None\n",
    "print(list2)\n",
    "print(new_list2)"
   ]
  },
  {
   "cell_type": "code",
   "execution_count": null,
   "id": "e688f6ac-ceab-4746-b9cf-08e907d70234",
   "metadata": {},
   "outputs": [],
   "source": [
    "listq = ['a', 'b', 'd', 'd', 'd', 'c']\n",
    "print(listq.index('c'))\n",
    "print(listq.count('d'))\n",
    "\n",
    "listq.sort()  # changed the order of orginal list\n",
    "print(listq)\n",
    "\n",
    "listk = listq.copy()  # copy the listq to listk\n",
    "listk1 = sorted(listk)  # sorted not change the orginal list order\n",
    "print(listk)\n",
    "print(listk1)\n",
    "\n",
    "listk1.reverse()\n",
    "print(listk1)"
   ]
  },
  {
   "cell_type": "code",
   "execution_count": null,
   "id": "9de3ae32-b4e2-4252-9894-a0c1ae5b7514",
   "metadata": {},
   "outputs": [],
   "source": [
    "print(list(range(10)))\n",
    "\n",
    "newstring = ' '.join(['fei', 'fei', 'a', 'yang'])\n",
    "print(newstring)"
   ]
  },
  {
   "cell_type": "code",
   "execution_count": null,
   "id": "aa987e41-e872-4937-912b-c08572d0a0c5",
   "metadata": {},
   "outputs": [],
   "source": [
    "# list unpacking\n",
    "a, b, c, *other, d = list(range(10))\n",
    "print(a)\n",
    "print(other)"
   ]
  },
  {
   "cell_type": "markdown",
   "id": "bde5c3a4-9fcc-4b68-a9c0-a89739ff0e27",
   "metadata": {},
   "source": [
    "&nbsp;"
   ]
  },
  {
   "cell_type": "markdown",
   "id": "3fd6366c-0244-4265-a2ef-0480aa345e43",
   "metadata": {},
   "source": [
    "#### 1.5 Dictionary\n",
    "- **Dictionary**: unordered key-value pairs. Get the value using the key.<br>\n",
    "  eg. dict = {'key1':value1, 'key2':value2}, dict['key1']\n",
    "- **Keys**:\n",
    "  - The key of dictionary has to be **unique**.\n",
    "  - The key has to be **immutable**. so list cannot be used for the key.\n",
    "- **Function/Methods**:\n",
    "  - mydict **.get**('key'): returns None when the key doesn't exist.\n",
    "  - **dict()**: used to create a dictionary.\n",
    "  - mydict **.keys()**: returns a view of all the keys in the dictionary.\n",
    "  - mydict **.values()**: returns a view of all the values in the dictionary.\n",
    "  - mydict **.items()**: returns a view of all (key, value) pairs.\n",
    "  - mydict **.clear()**: empty the dictionary and returns None.\n",
    "  - mydict **.copy()**: creates a copy of the dictionary.\n",
    "  - mydict **.pop(key)**: remove the item with the specified key and returns its value.\n",
    "  - mydict **.popitem()**: remove and return the last (key, value) pair.\n",
    "  - mydict **.update(other_dict)**: update the dictionary with key-value pairs from other dictionary."
   ]
  },
  {
   "cell_type": "code",
   "execution_count": null,
   "id": "9979ad85-47b4-40ec-8771-d99204b22c61",
   "metadata": {},
   "outputs": [],
   "source": [
    "# access dictionary value through the key\n",
    "mydict = {'a':[1,2,3], 'b':2, 'c':3}\n",
    "print(mydict['a'])\n",
    "print(mydict['a'][0])"
   ]
  },
  {
   "cell_type": "code",
   "execution_count": null,
   "id": "ade14d0c-b399-44d5-b59e-7498a01595bd",
   "metadata": {},
   "outputs": [],
   "source": [
    "# create a dictionary using dict()\n",
    "mydict1 = dict(name='Haha', age='6', hobby='cooking')\n",
    "print(mydict1)\n",
    "\n",
    "# create a copy of the dictionary\n",
    "mydict2 = mydict1.copy()\n",
    "print(mydict2)\n",
    "\n",
    "# check if the key or values existed in the dictionary\n",
    "print('name' in mydict2.keys())\n",
    "print('6' in mydict2.values())\n",
    "print(mydict2.items())\n",
    "\n",
    "# remove the last item\n",
    "print(mydict2.popitem()) # returns the removed key-value pair\n",
    "print(mydict2)\n",
    "\n",
    "# remove a specific key-value pair\n",
    "print(mydict2.pop('name')) # returns the value of the specified key\n",
    "print(mydict2)\n",
    "\n",
    "# update the dictionary\n",
    "mydict2.update({'name':'boniu'})\n",
    "print(mydict2)"
   ]
  },
  {
   "cell_type": "markdown",
   "id": "f88a6d1d-1ce2-407e-9ced-2a66d6e60aa4",
   "metadata": {},
   "source": [
    "&nbsp;"
   ]
  },
  {
   "cell_type": "markdown",
   "id": "c13e1e9f-3109-4be5-ba24-469cd64fb82b",
   "metadata": {},
   "source": [
    "#### 1.6 Tuples\n",
    "- **Tuple**: immutable list. Cannot be modified. Faster than list.<br>\n",
    "  eg. mytuple = (1,2,3,4,5)\n",
    "- **Method**:\n",
    "   - mytuple **.count**: count how many times a given value appeared in the tuple.\n",
    "   - mytuple **.index**:return the indext of the first occurence of a given value."
   ]
  },
  {
   "cell_type": "code",
   "execution_count": null,
   "id": "39f70e62-77e4-489a-8f76-dbec0448a5b1",
   "metadata": {},
   "outputs": [],
   "source": [
    "mytuple = (1,2,3,4,5,5,5)\n",
    "print(1 in mytuple)\n",
    "\n",
    "x, y, z, *other = mytuple\n",
    "print(x)\n",
    "print(other)\n",
    "\n",
    "print(mytuple.count(5))\n",
    "print(mytuple.index(5))\n"
   ]
  },
  {
   "cell_type": "markdown",
   "id": "c360038c-fe1b-4e65-866c-f4d0562924d8",
   "metadata": {},
   "source": [
    "&nbsp;"
   ]
  },
  {
   "cell_type": "markdown",
   "id": "7bf86571-df35-4770-9111-909ad0c5535c",
   "metadata": {},
   "source": [
    "#### 1.7 Set\n",
    "- **set**: unordered colleciton of **unique** objects.<br>\n",
    "eg. myset = {1,2,3,4,5}\n",
    "- set objects **doesn't supporting indexing**, so we cannot do set[0].<br>\n",
    "eg. print(value in myset)\n",
    "- **Function/Method**:\n",
    "  - **set()**: convert other data types to a set.\n",
    "  - **len()**: check the length of the set.\n",
    "  - myset **.add()**: add new value to the set.\n",
    "  - set1 **.difference(set2)**: returns a new set including elements that are in set1 but not in set2.\n",
    "  - **.discard()**: remove the element from the set if it exists.\n",
    "  - set1 **.difference_update(set2)**: remove all elements of set2 from set1, returns the updated set1.\n",
    "  - set1 **.intersection(set2)**: returns the overlap between set1 and set2.\n",
    "  - set1 **.isdisjoint(set2)**: returns **True** if two sets have **no elements in common**.\n",
    "  - set1 **.issubset(set2)**: returns **True** if set1 is a subset of set2.\n",
    "  - set1 **.issuperset(set2)**: returns **True** if set1 contains all elements of set2. \n",
    "  - set1 **.union(set2)**: merge two sets and remove duplicated elements.\n",
    "\n"
   ]
  },
  {
   "cell_type": "code",
   "execution_count": null,
   "id": "7f930e9b-cd6c-461b-bdd5-d5ceaeeb5519",
   "metadata": {},
   "outputs": [],
   "source": [
    "mylist = [1,1,2,3,4]\n",
    "myset = set(mylist)\n",
    "print(myset)\n",
    "print(len(myset))"
   ]
  },
  {
   "cell_type": "code",
   "execution_count": null,
   "id": "284ca0b8-5d49-4249-a678-e309871f1121",
   "metadata": {},
   "outputs": [],
   "source": [
    "myset = {1,2,3,4}\n",
    "yourset = {2,3,4,5,6,7}\n",
    "# difference\n",
    "print(myset.difference(yourset))\n",
    "\n",
    "#intersection\n",
    "print(myset.intersection(yourset))\n",
    "\n",
    "#difference_update\n",
    "myset.difference_update(yourset)\n",
    "print(myset)\n"
   ]
  },
  {
   "cell_type": "code",
   "execution_count": null,
   "id": "32240f0a-7a07-4ebc-b4d8-ac9721959ea6",
   "metadata": {},
   "outputs": [],
   "source": [
    "myset = {1,2,3,4}\n",
    "yourset = {2,3,4,5,6,7}\n",
    "\n",
    "print(myset.isdisjoint(yourset))\n",
    "print(myset.union(yourset))"
   ]
  },
  {
   "cell_type": "markdown",
   "id": "39e3a647-cb77-462e-8e8f-cb3bf553c2d7",
   "metadata": {},
   "source": [
    "&nbsp;"
   ]
  },
  {
   "cell_type": "markdown",
   "id": "8fa78bd6-73d8-4853-a552-de2c01abb1a9",
   "metadata": {},
   "source": [
    "### Exercise"
   ]
  },
  {
   "cell_type": "markdown",
   "id": "89c6d8ce-0845-44d0-9cf1-34f7e9ab042f",
   "metadata": {},
   "source": [
    "#### 1. #42 Password Checker"
   ]
  },
  {
   "cell_type": "code",
   "execution_count": null,
   "id": "6cd8df44-f222-4709-867c-7bcea62aa53c",
   "metadata": {},
   "outputs": [],
   "source": [
    "username = input('what is your name?')\n",
    "pswd = input('what is your password?')\n",
    "pswdlen = len(pswd)\n",
    "pswdencrypt = '*'*pswdlen\n",
    "\n",
    "print(f'{username}, your password {pswdencrypt} is {pswdlen} letters long')"
   ]
  },
  {
   "cell_type": "code",
   "execution_count": null,
   "id": "5c89f259-546a-47dd-8b00-667f4fd2897f",
   "metadata": {},
   "outputs": [],
   "source": []
  }
 ],
 "metadata": {
  "kernelspec": {
   "display_name": "Python 3 (ipykernel)",
   "language": "python",
   "name": "python3"
  },
  "language_info": {
   "codemirror_mode": {
    "name": "ipython",
    "version": 3
   },
   "file_extension": ".py",
   "mimetype": "text/x-python",
   "name": "python",
   "nbconvert_exporter": "python",
   "pygments_lexer": "ipython3",
   "version": "3.13.2"
  }
 },
 "nbformat": 4,
 "nbformat_minor": 5
}
