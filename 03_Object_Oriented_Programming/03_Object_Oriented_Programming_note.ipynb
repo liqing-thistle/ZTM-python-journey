{
 "cells": [
  {
   "cell_type": "markdown",
   "id": "657831e7-f8c6-4cb0-9eca-04b3a102a33f",
   "metadata": {},
   "source": [
    "### 03 Object-Oriented Programming"
   ]
  },
  {
   "cell_type": "markdown",
   "id": "d3d70766-ff38-490e-b0ce-9325822423df",
   "metadata": {},
   "source": [
    "&nbsp;"
   ]
  },
  {
   "cell_type": "markdown",
   "id": "13be4764-39db-430d-b100-61ae9e129a11",
   "metadata": {},
   "source": [
    "#### 1. Object-Orientied Programming (OOP) \n",
    "- a programming paradigm that organize codes using **objects**, which combine **data (attributes)** and **behavior (methods)**."
   ]
  },
  {
   "cell_type": "markdown",
   "id": "65bbf813-d8d4-4275-84bc-a6bcd14c1ce7",
   "metadata": {},
   "source": [
    "#### 2. class\n",
    "- **class**:  a *blueprint* for creating **objects (instances)**, it defines what **attributes** and **methods** an object will have.\n",
    "  - **attributes**: variables that store informaion about an object.\n",
    "    - **class attributes**: *belongs to class itself*, shared by all instances.\n",
    "    - **object(instance) attributes**: *belongs to the individual object(instance)*, defined in sided the __init__ method using self.\n",
    "  - **methods**: functions defined inside a class.\n",
    "    - **instance method**: take `self` as the first argument; can *access and modify object attributes and class attributes*.\n",
    "    - **class method**: take `cls` as the first argument; can *access and modify class-level data, but not object-specific data*.\n",
    "    - **static method**: take **no** `self` or `cls`; cannot access or modify class or object data.Just a function inside a class for organization.\n",
    "\n",
    "- **class structure**:\n",
    "```\n",
    "class ClassName:\n",
    "    class_attribute = 'value'\n",
    "\n",
    "    def __init__(self, param1, param2):\n",
    "        self.param1 = param1\n",
    "        self.param2 = param2\n",
    "\n",
    "    def method(self):\n",
    "        #code\n",
    "\n",
    "    @classmethod\n",
    "    def class_method(cls, param1, param2):\n",
    "        #code\n",
    "\n",
    "    @staticmethod\n",
    "    def static_method(param1, param2):\n",
    "        #code    \n",
    "\n",
    "```"
   ]
  },
  {
   "cell_type": "code",
   "execution_count": 11,
   "id": "c5e8dbf0-2497-48ad-b066-befb626668c6",
   "metadata": {},
   "outputs": [
    {
     "name": "stdout",
     "output_type": "stream",
     "text": [
      "Lili\n",
      "run Lili\n",
      "None\n",
      "True\n"
     ]
    }
   ],
   "source": [
    "# class\n",
    "class PlayerCharacter:   # define a calss used for creating \"player\" objects\n",
    "    membership = True  # class attribute: shared by all instances\n",
    "    def __init__(self, name, age):  # constructor method; self: a reference to the current object being created\n",
    "        if (PlayerCharacter.membership):\n",
    "            self.name = name  # instance/object attributes\n",
    "            self.age = age\n",
    "\n",
    "    def run(self):  # define a method: \n",
    "        print(f'run {self.name}')\n",
    "\n",
    "player1 = PlayerCharacter('Lili', '16')\n",
    "\n",
    "print(player1.name)  # name is attribute not a method, so it's not name()\n",
    "print(player1.run())\n",
    "print(player1.membership)"
   ]
  },
  {
   "cell_type": "code",
   "execution_count": 17,
   "id": "0f916f91-7004-4ec0-b108-92b88fbff908",
   "metadata": {},
   "outputs": [
    {
     "name": "stdout",
     "output_type": "stream",
     "text": [
      "Hi, my name is Boniu from HaHa Universe\n",
      "This is a class method\n",
      "This is a static method\n"
     ]
    }
   ],
   "source": [
    "# @classmethod\n",
    "# @staticmethod\n",
    "\n",
    "class HaUniverse:\n",
    "    def __init__(self, name, age):\n",
    "        self.name = name\n",
    "        self.age = age\n",
    "\n",
    "    def intro(self):  # instance method\n",
    "        print(f'Hi, my name is {self.name} from HaHa Universe')\n",
    "\n",
    "    @classmethod\n",
    "    def class_method(cls):\n",
    "        print('This is a class method')\n",
    "\n",
    "    @staticmethod\n",
    "    def static_method():\n",
    "        print('This is a static method')\n",
    "\n",
    "\n",
    "Boniu = HaUniverse('Boniu', '5')\n",
    "Boniu.intro()         # instance method \n",
    "\n",
    "HaUniverse.class_method()  # class method\n",
    "\n",
    "HaUniverse.static_method()  # static method"
   ]
  },
  {
   "cell_type": "markdown",
   "id": "0a851068-1cc9-41ea-b149-a8eb3313c80e",
   "metadata": {},
   "source": [
    "&nbsp;"
   ]
  },
  {
   "cell_type": "markdown",
   "id": "02e687a3-9bd8-4b93-afa6-958b8a708cf8",
   "metadata": {},
   "source": [
    "#### 3. Pillars of OOP\n",
    "- **Encapsulation**: bundle data and methods that work on the object into a single unit-class. \n",
    "- **Abstraction**: hide complex internal details and just focus on essential parts. \n",
    "- **Inheritance**: allows a child class to inherit attributes and methods from another parent class.\n",
    "  - by putting the parent class name in parentheses when defining the child class. `class ChildClass(ParentClass)`\n",
    "  - **Multiple inheritance**: a class has more than one parent class.\n",
    "  - **MRO:Method Resolution Order**:If multiple parent classes define the same method, Python uses the MRO (Method Resolution Order) to decide which one to call.\n",
    "    - obj **.mro()**: check MRO of the object.\n",
    "- **Polymorphism**: same method on different objects may behave differently."
   ]
  },
  {
   "cell_type": "code",
   "execution_count": 27,
   "id": "808acd5f-4e35-47a5-9819-61c170b7eaf1",
   "metadata": {},
   "outputs": [
    {
     "name": "stdout",
     "output_type": "stream",
     "text": [
      "logged in\n",
      "None\n",
      "True\n"
     ]
    }
   ],
   "source": [
    "# inheritance\n",
    "class User():\n",
    "    def sign_in(self):\n",
    "        print('logged in')\n",
    "\n",
    "class Wizard(User):    # Wizard is a subclass/child class of the User class.\n",
    "    def __init__(self, name ,power):\n",
    "        self.name = name\n",
    "        self.power = power\n",
    "    def attack():\n",
    "        print(f'Attacking with the power of {self.power} as a {self.name}')\n",
    "\n",
    "wizard1 = Wizard('Merlin', 50)\n",
    "print(wizard1.sign_in())  # Wizard object wizard1 inheritated sign_in function from User class.\n",
    "\n",
    "print(isinstance(wizard1, User)) # check if wizard is an instance/object of User."
   ]
  },
  {
   "cell_type": "code",
   "execution_count": 30,
   "id": "813e7054-d06d-483f-a453-47513d557c02",
   "metadata": {},
   "outputs": [
    {
     "name": "stdout",
     "output_type": "stream",
     "text": [
      "Attacking with the power of 40 as a Tedpp\n",
      "None\n",
      "20 remaining\n",
      "None\n",
      "run really fast\n",
      "None\n"
     ]
    }
   ],
   "source": [
    " # multiple inheritance\n",
    "# User\n",
    "class User():\n",
    "    def sign_in(self):\n",
    "        print('logged in')\n",
    "\n",
    "# subclass of User\n",
    "class Wizard(User):    # Wizard is a subclass/child class of the User class.\n",
    "    def __init__(self, name, power):\n",
    "        self.name = name\n",
    "        self.power = power\n",
    "    def attack(self):\n",
    "        print(f'Attacking with the power of {self.power} as a {self.name}')\n",
    "\n",
    "class Archer(User):\n",
    "    def __init__(self, name, arrows):\n",
    "        self.name = name\n",
    "        self.arrows = arrows\n",
    "    def check_arrows(self):\n",
    "        print(f'{self.arrows} remaining')\n",
    "    def run(self):\n",
    "        print('run really fast')\n",
    "\n",
    "# subclass of Wizard and Archer\n",
    "class HybridBorg(Wizard, Archer):\n",
    "    def __init__(self, name, power, arrows):\n",
    "        Wizard.__init__(self, name, power)\n",
    "        Archer.__init__(self, name, arrows)\n",
    "\n",
    "hb1 = HybridBorg('Tedpp', 40, 20)\n",
    "print(hb1.attack())\n",
    "print(hb1.check_arrows())\n",
    "print(hb1.run())\n"
   ]
  },
  {
   "cell_type": "markdown",
   "id": "68e3ee90-ed81-418d-9630-d12816d206ed",
   "metadata": {},
   "source": [
    "&nbsp;"
   ]
  },
  {
   "cell_type": "markdown",
   "id": "72b2ab70-1130-4e2c-8dd9-2df8e215878a",
   "metadata": {},
   "source": [
    "#### 4. Private vs Public variables\n",
    "- **private variable**: no true private variable ,just a convention - a name prefixed with an underscore, eg. `_name`, should be treated as a non-public variable. Please do not touch from outside the class.\n",
    "- **public variable**: accessible from anywhere."
   ]
  },
  {
   "cell_type": "code",
   "execution_count": 18,
   "id": "eb3d4807-8acc-4c82-b865-1659b0a2acf1",
   "metadata": {},
   "outputs": [
    {
     "name": "stdout",
     "output_type": "stream",
     "text": [
      "Bubu\n"
     ]
    }
   ],
   "source": [
    "# private variable\n",
    "class Cat:\n",
    "    def __init__(self, name):\n",
    "        self._name = name    # private variable\n",
    "\n",
    "Cat1 = Cat('Bubu')\n",
    "print(Cat1._name) # this works, but not recommended."
   ]
  },
  {
   "cell_type": "markdown",
   "id": "b848cffe-b1f1-4501-913a-1184afe88f22",
   "metadata": {},
   "source": [
    "&nbsp;"
   ]
  },
  {
   "cell_type": "markdown",
   "id": "22aa70b0-0173-46ff-b5b2-9b4fc80f5528",
   "metadata": {},
   "source": [
    "#### 5. Others\n",
    "- **super()**: used to call a method from the parent class, without rewriting everything.\n",
    "-  **Object introspection**: the ability of Python to examine the type or properties of an object at runtime.\n",
    "    - `dir(obj)`: list all attributes and methods of an object.\n",
    "    - `type(obj)`: check the type of the object.\n",
    "    - `isinstance(obj, cls)`: check if an object is an instance of a class.\n",
    "    - `issubclass(sub, sup)`: check if a class inherits from another.\n",
    "\n",
    "- **Dunder methods**: short for \"double underscore\", also called \"magic methods\".\n",
    "  - customize how objects behave with built-in Python syntax.\n",
    "  - eg. `__len__` used by `len(obj)`\n",
    "    \n",
    "\n",
    "  "
   ]
  },
  {
   "cell_type": "code",
   "execution_count": null,
   "id": "85997de8-e26f-4e60-bd1c-97cb6a94823d",
   "metadata": {},
   "outputs": [],
   "source": [
    "# super\n",
    "class Animal:\n",
    "    def __init__(self, name):\n",
    "        self.name = name\n",
    "\n",
    "class Dog:\n",
    "    def __init__(self, name, breed):\n",
    "        super().__init__(name)  # call the __init__ from the super class (parent class)\n",
    "        self.breed = breed"
   ]
  },
  {
   "cell_type": "code",
   "execution_count": null,
   "id": "cb786891-5d17-4c05-b375-6853d9ddab42",
   "metadata": {},
   "outputs": [],
   "source": []
  },
  {
   "cell_type": "code",
   "execution_count": null,
   "id": "08a8bf62-5dca-4e62-9740-964c6e9916e5",
   "metadata": {},
   "outputs": [],
   "source": []
  },
  {
   "cell_type": "code",
   "execution_count": null,
   "id": "33c1fa16-7526-419d-be6b-edb5874b68be",
   "metadata": {},
   "outputs": [],
   "source": []
  }
 ],
 "metadata": {
  "kernelspec": {
   "display_name": "Python 3 (ipykernel)",
   "language": "python",
   "name": "python3"
  },
  "language_info": {
   "codemirror_mode": {
    "name": "ipython",
    "version": 3
   },
   "file_extension": ".py",
   "mimetype": "text/x-python",
   "name": "python",
   "nbconvert_exporter": "python",
   "pygments_lexer": "ipython3",
   "version": "3.13.2"
  }
 },
 "nbformat": 4,
 "nbformat_minor": 5
}
