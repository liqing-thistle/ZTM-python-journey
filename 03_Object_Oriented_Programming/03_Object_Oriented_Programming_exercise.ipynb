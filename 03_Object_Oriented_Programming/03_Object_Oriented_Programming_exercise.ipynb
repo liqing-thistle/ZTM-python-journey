{
 "cells": [
  {
   "cell_type": "markdown",
   "id": "8b49eb4d-963b-4e8a-a5ad-4f06f60986ee",
   "metadata": {},
   "source": [
    "### 03 Object-Oriented Programming-Exercise"
   ]
  },
  {
   "cell_type": "markdown",
   "id": "940efd93-7f89-4ed3-a08c-4465225d21ce",
   "metadata": {},
   "source": [
    "#### 1. Cats everywhere\n",
    "\n",
    "Given the below class:\n",
    "```\n",
    "class Cat:\n",
    "    species = 'mammal'\n",
    "    def __init__(self, name, age):\n",
    "        self.name = name\n",
    "        self.age = age\n",
    "```\n",
    "\n",
    "- 1 Instantiate the Cat object with 3 cats\n",
    "\n",
    "- 2 Create a function that finds the oldest cat\n",
    "\n",
    "- 3 Print out: \"The oldest cat is x years old.\". x will be the oldest cat age by using the function in #2"
   ]
  },
  {
   "cell_type": "code",
   "execution_count": 20,
   "id": "8d55e06f-1f25-4c3e-9d01-bc0cc7af3cff",
   "metadata": {},
   "outputs": [
    {
     "name": "stdout",
     "output_type": "stream",
     "text": [
      "The oldest cat is 7 years old.\n"
     ]
    }
   ],
   "source": [
    "# solution 1\n",
    "# instantiate 3 cats\n",
    "class cat:\n",
    "    species = 'mammal'\n",
    "    def __init__(self, name, age):\n",
    "        self.name = name\n",
    "        self.age = age\n",
    "\n",
    "cat1 = cat('Bubu', '4')\n",
    "cat2 = cat('Dudu', '5')\n",
    "cat3 = cat('Coco', '7')\n",
    "\n",
    "# the function to find the oldest cat\n",
    "def oldest(age1, age2, age3):\n",
    "    age = [age1, age2, age3]\n",
    "    oldest = max(age)\n",
    "    return oldest\n",
    "    \n",
    "cat_oldest = oldest(cat1.age, cat2.age, cat3.age)\n",
    "print(f'The oldest cat is {cat_oldest} years old.')"
   ]
  },
  {
   "cell_type": "code",
   "execution_count": 21,
   "id": "cceee545-c2ea-4653-8b1a-beae391e47e3",
   "metadata": {},
   "outputs": [
    {
     "name": "stdout",
     "output_type": "stream",
     "text": [
      "The oldest cat is 8 years old.\n"
     ]
    }
   ],
   "source": [
    "# solution 2\n",
    "# instantiate 3 cats\n",
    "class cat:\n",
    "    species = 'mammal'\n",
    "    def __init__(self, name, age):\n",
    "        self.name = name\n",
    "        self.age = age\n",
    "\n",
    "cat1 = cat('Bubu', '4')\n",
    "cat2 = cat('Dudu', '5')\n",
    "cat3 = cat('Coco', '8')\n",
    "\n",
    "# the function to find the oldest cat\n",
    "def oldest(*args):\n",
    "    return max(args)\n",
    "    \n",
    "cat_oldest = oldest(cat1.age, cat2.age, cat3.age)\n",
    "print(f'The oldest cat is {cat_oldest} years old.')\n"
   ]
  },
  {
   "cell_type": "markdown",
   "id": "a9f2fd83-8ee1-4b4f-8654-28753f13facc",
   "metadata": {},
   "source": [
    "&nbsp;"
   ]
  },
  {
   "cell_type": "markdown",
   "id": "98b28709-7fa1-4423-9710-888e304cbe77",
   "metadata": {},
   "source": [
    "#### 2. Pets everywhere\n",
    "```\n",
    "class Pets():\n",
    "    animals = []\n",
    "    def __init__(self, animals):\n",
    "        self.animals = animals\n",
    "\n",
    "    def walk(self):\n",
    "        for animal in self.animals:\n",
    "            print(animal.walk())\n",
    "\n",
    "class Cat():\n",
    "    is_lazy = True\n",
    "\n",
    "    def __init__(self, name, age):\n",
    "        self.name = name\n",
    "        self.age = age\n",
    "\n",
    "    def walk(self):\n",
    "        return f'{self.name} is just walking around'\n",
    "\n",
    "class Simon(Cat):\n",
    "    def sing(self, sounds):\n",
    "        return f'{sounds}'\n",
    "\n",
    "class Sally(Cat):\n",
    "    def sing(self, sounds):\n",
    "        return f'{sounds}'\n",
    "```\n",
    "#1 Add another class of Cat\n",
    "\n",
    "#2 Create a list of all of the pets (create 3 cat instances from the above)\n",
    "my_cats = []\n",
    "\n",
    "#3 Instantiate the Pet class with all your cats use variable my_pets\n",
    "\n",
    "#4 Output all of the cats walking using the my_pets instance"
   ]
  },
  {
   "cell_type": "code",
   "execution_count": 29,
   "id": "54b5fa95-a140-47a1-99c5-4da7249a2afb",
   "metadata": {},
   "outputs": [
    {
     "name": "stdout",
     "output_type": "stream",
     "text": [
      "[<__main__.Simon object at 0x7fe220eda270>, <__main__.Sally object at 0x7fe220eda120>, <__main__.Bubu object at 0x7fe220edacf0>]\n",
      "QQ is just walking around\n",
      "PP is just walking around\n",
      "KK is just walking around\n",
      "[<__main__.Simon object at 0x7fe220eda270>, <__main__.Sally object at 0x7fe220eda120>, <__main__.Bubu object at 0x7fe220edacf0>]\n"
     ]
    }
   ],
   "source": [
    "class Pets():\n",
    "    animals = []\n",
    "    def __init__(self, animals):\n",
    "        self.animals = animals\n",
    "\n",
    "    def walk(self):\n",
    "        for animal in self.animals:\n",
    "            print(animal.walk())\n",
    "\n",
    "class Cat():\n",
    "    is_lazy = True\n",
    "\n",
    "    def __init__(self, name, age):\n",
    "        self.name = name\n",
    "        self.age = age\n",
    "\n",
    "    def walk(self):\n",
    "        return f'{self.name} is just walking around'\n",
    "\n",
    "class Simon(Cat):\n",
    "    def sing(self, sounds):\n",
    "        return f'{sounds}'\n",
    "\n",
    "class Sally(Cat):\n",
    "    def sing(self, sounds):\n",
    "        return f'{sounds}'\n",
    "\n",
    "#1 Add another class Cat\n",
    "class Bubu(Cat):\n",
    "    def sing(self, sounds):\n",
    "        return f'[sounds]'\n",
    "\n",
    "#2 Create a list of all of the pets (create 3 cat instances from the above) my_cats = []\n",
    "cat1 = Simon('QQ', 5)\n",
    "cat2 = Sally('PP', 4)\n",
    "cat3 = Bubu('KK', 7)\n",
    "my_cats = []\n",
    "my_cats.append(cat1)\n",
    "my_cats.append(cat2)\n",
    "my_cats.append(cat3)\n",
    "\n",
    "my_cats\n",
    "\n",
    "#3 Instantiate the Pet class with all your cats use variable my_pets\n",
    "my_pets = Pets(my_cats)\n",
    "print(my_pets.animals)\n",
    "\n",
    "#4 Output all of the cats walking using the my_pets instance\n",
    "my_pets.walk()  \n",
    "## my_pets is the list [cat1, cat2, cat3]; my_pets.walk() --> cat1.walk(), cat2.walk(), cat3.wal()\n",
    "## cat1, cat2, and cat3 are subcalss of Cat, so cat1.walk() --> return f'{self.name} is just walking around'S\n",
    "\n"
   ]
  },
  {
   "cell_type": "markdown",
   "id": "21c8b539-36e1-4ca9-814e-e8b2190e61c9",
   "metadata": {},
   "source": [
    "&nbsp;"
   ]
  },
  {
   "cell_type": "markdown",
   "id": "ada50a5d-b2be-48d3-bfce-61fd5dcca3d1",
   "metadata": {},
   "source": [
    "#### 3. Extending list\n"
   ]
  },
  {
   "cell_type": "code",
   "execution_count": 35,
   "id": "38d573fe-d1e3-402f-9b0c-a22099bb27fe",
   "metadata": {},
   "outputs": [
    {
     "name": "stdout",
     "output_type": "stream",
     "text": [
      "1000\n",
      "5\n",
      "True\n"
     ]
    }
   ],
   "source": [
    "class SuperList(list):   # SuperList, as a subclass of list, inherits all attributes and methods of list\n",
    "    def __len__(self):\n",
    "        return 1000\n",
    "\n",
    "super_list1 = SuperList()\n",
    "\n",
    "print(len(super_list1))\n",
    "super_list1.append(5)\n",
    "print(super_list1[0])\n",
    "print(issubclass(SuperList, list))"
   ]
  },
  {
   "cell_type": "code",
   "execution_count": null,
   "id": "df40beb6-402e-4862-9348-12eb18d13984",
   "metadata": {},
   "outputs": [],
   "source": []
  },
  {
   "cell_type": "code",
   "execution_count": null,
   "id": "397118c8-2e57-4dc6-81f1-63699d8add40",
   "metadata": {},
   "outputs": [],
   "source": []
  }
 ],
 "metadata": {
  "kernelspec": {
   "display_name": "Python 3 (ipykernel)",
   "language": "python",
   "name": "python3"
  },
  "language_info": {
   "codemirror_mode": {
    "name": "ipython",
    "version": 3
   },
   "file_extension": ".py",
   "mimetype": "text/x-python",
   "name": "python",
   "nbconvert_exporter": "python",
   "pygments_lexer": "ipython3",
   "version": "3.13.2"
  }
 },
 "nbformat": 4,
 "nbformat_minor": 5
}
