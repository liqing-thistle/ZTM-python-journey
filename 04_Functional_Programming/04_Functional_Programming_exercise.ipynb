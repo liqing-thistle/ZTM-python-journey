{
 "cells": [
  {
   "cell_type": "markdown",
   "id": "a29f21ef-3a39-48e4-a969-0281767adf76",
   "metadata": {},
   "source": [
    "### 04 Functional Programming-Exercise"
   ]
  },
  {
   "cell_type": "markdown",
   "id": "4d9f556a-b9bd-4d2d-a011-01070426976c",
   "metadata": {},
   "source": [
    "#### 1. map, filter, zip, reduce\n",
    "\n",
    "- #1 Capitalize all of the pet names and print the list\n",
    "`my_pets = ['sisi', 'bibi', 'titi', 'carla']`\n",
    "\n",
    "\n",
    "- #2 Zip the 2 lists into a list of tuples, but sort the numbers from lowest to highest.\n",
    "```\n",
    "my_strings = ['a', 'b', 'c', 'd', 'e']\n",
    "my_numbers = [5,4,3,2,1]\n",
    "```\n",
    "- #3 Filter the scores that pass over 50%\n",
    "`scores = [73, 20, 65, 19, 76, 100, 88]`\n",
    "\n",
    "\n",
    "- #4 Combine all of the numbers that are in a list on this file using reduce (my_numbers and scores). What is the total?"
   ]
  },
  {
   "cell_type": "code",
   "execution_count": 10,
   "id": "6eb68adc-9a45-4897-8718-48e6f3b2f1f0",
   "metadata": {},
   "outputs": [
    {
     "name": "stdout",
     "output_type": "stream",
     "text": [
      "['SISI', 'BIBI', 'TITI', 'CARLA']\n"
     ]
    }
   ],
   "source": [
    "# 1\n",
    "my_pets = ['sisi', 'bibi', 'titi', 'carla']\n",
    "\n",
    "print(list(map(lambda item: item.upper(), my_pets)))"
   ]
  },
  {
   "cell_type": "code",
   "execution_count": 14,
   "id": "aef330fb-34a4-4713-a930-62aef554d3ea",
   "metadata": {},
   "outputs": [
    {
     "name": "stdout",
     "output_type": "stream",
     "text": [
      "[('a', 5), ('b', 4), ('c', 3), ('d', 2), ('e', 1)]\n",
      "[('e', 1), ('d', 2), ('c', 3), ('b', 4), ('a', 5)]\n"
     ]
    }
   ],
   "source": [
    "# 2\n",
    "my_strings = ['a', 'b', 'c', 'd', 'e']\n",
    "my_numbers = [5,4,3,2,1]\n",
    "\n",
    "zipped = list(zip(my_strings, my_numbers))\n",
    "print(zipped)\n",
    "zipped.sort(key = lambda item: item[1])\n",
    "print(zipped)"
   ]
  },
  {
   "cell_type": "code",
   "execution_count": 15,
   "id": "ae46940b-624b-47fc-ab0b-b97ed71d4b21",
   "metadata": {},
   "outputs": [
    {
     "name": "stdout",
     "output_type": "stream",
     "text": [
      "[73, 65, 76, 100, 88]\n"
     ]
    }
   ],
   "source": [
    "# 3\n",
    "scores = [73, 20, 65, 19, 76, 100, 88]\n",
    "\n",
    "print(list(filter(lambda num: num > 50, scores)))"
   ]
  },
  {
   "cell_type": "code",
   "execution_count": 17,
   "id": "3c4ff246-9a09-4cb7-b2bb-b2d8351ac280",
   "metadata": {},
   "outputs": [
    {
     "data": {
      "text/plain": [
       "456"
      ]
     },
     "execution_count": 17,
     "metadata": {},
     "output_type": "execute_result"
    }
   ],
   "source": [
    "# 4\n",
    "from functools import reduce\n",
    "\n",
    "reduce(lambda acc, num: acc + num,  my_numbers + scores, 0)"
   ]
  },
  {
   "cell_type": "markdown",
   "id": "6e0757dc-08c6-4c6d-b7b2-5acfdb634704",
   "metadata": {},
   "source": [
    "&nbsp;"
   ]
  },
  {
   "cell_type": "markdown",
   "id": "f9c0a66e-5f60-48fe-b4c0-02896af3d593",
   "metadata": {},
   "source": [
    "#### 2. Lambda expressions\n",
    "- 1)create a lambda expression to square each item in the list.\n",
    "  - `my_list = [5, 4, 3]`\n",
    "\n",
    "- 2)sort the given list based on the second value in each tuple.\n",
    "    - `a = [(0, 2), (4, 3), (9, 9), (10, -1)]`\n"
   ]
  },
  {
   "cell_type": "code",
   "execution_count": 1,
   "id": "fb3c5f35-27ca-4e6c-a856-be99d9f4c7d4",
   "metadata": {},
   "outputs": [
    {
     "name": "stdout",
     "output_type": "stream",
     "text": [
      "[25, 16, 9]\n"
     ]
    }
   ],
   "source": [
    "# 1)\n",
    "my_list = [5, 4, 3]\n",
    "\n",
    "print(list(map(lambda num: num**2, my_list)))"
   ]
  },
  {
   "cell_type": "code",
   "execution_count": 7,
   "id": "19201ae5-ce11-48c3-9b7c-851864ce2afc",
   "metadata": {},
   "outputs": [
    {
     "name": "stdout",
     "output_type": "stream",
     "text": [
      "[(10, -1), (0, 2), (4, 3), (9, 9)]\n"
     ]
    }
   ],
   "source": [
    "# 2) \n",
    "a = [(0, 2), (4, 3), (9, 9), (10, -1)]\n",
    "\n",
    "b = sorted(a, key = lambda num: num[1])\n",
    "print(b)"
   ]
  },
  {
   "cell_type": "markdown",
   "id": "fc7b6b26-e3c3-45ce-8109-336b48b69a28",
   "metadata": {},
   "source": [
    "&nbsp;"
   ]
  },
  {
   "cell_type": "markdown",
   "id": "816baea3-2554-45f3-bb0b-d030c75285f5",
   "metadata": {},
   "source": [
    "#### 3. Comprehensions\n",
    "- find duplicated letters in the list\n",
    "  - `some_list = ['a', 'b', 'c', 'b', 'd', 'm', 'n', 'n']`"
   ]
  },
  {
   "cell_type": "code",
   "execution_count": 23,
   "id": "2043f1e4-50d4-4023-8cb2-3af828212c2c",
   "metadata": {},
   "outputs": [
    {
     "name": "stdout",
     "output_type": "stream",
     "text": [
      "{'n', 'b'}\n"
     ]
    }
   ],
   "source": [
    "some_list = ['a', 'b', 'c', 'b', 'd', 'm', 'n', 'n']\n",
    "duplicates = {char for char in some_list if some_list.count(char) > 1}  # set comprehension\n",
    "print(duplicates)"
   ]
  }
 ],
 "metadata": {
  "kernelspec": {
   "display_name": "Python 3 (ipykernel)",
   "language": "python",
   "name": "python3"
  },
  "language_info": {
   "codemirror_mode": {
    "name": "ipython",
    "version": 3
   },
   "file_extension": ".py",
   "mimetype": "text/x-python",
   "name": "python",
   "nbconvert_exporter": "python",
   "pygments_lexer": "ipython3",
   "version": "3.13.2"
  }
 },
 "nbformat": 4,
 "nbformat_minor": 5
}
