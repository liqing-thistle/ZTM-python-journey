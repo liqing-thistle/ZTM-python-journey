{
 "cells": [
  {
   "cell_type": "markdown",
   "id": "ec9df9c5-c92d-4978-9df7-e32be8cd014a",
   "metadata": {},
   "source": [
    "### 04 Functional Programming"
   ]
  },
  {
   "cell_type": "markdown",
   "id": "496ae1b6-950c-4afe-a860-d215579d2ba1",
   "metadata": {},
   "source": [
    "#### 1. Functional programming\n",
    "- a programming paradigm where you build programs using pure funcitons。\n",
    "- same input --> same output\n",
    "- no side effects"
   ]
  },
  {
   "cell_type": "markdown",
   "id": "c41c8fab-484d-4ecd-bff3-0e63d830853c",
   "metadata": {},
   "source": [
    "#### 2. Useful functions\n",
    "- **map** *(function, iterable)*: applies a given function to each item in an iterable, and returns a new iterator which can be converted to a list using `list()`.\n",
    "  \n",
    "- **filter** *(function, iterable)*: filter elements from an iterable based on a condition, and returns an iterator which meets the condition.\n",
    "\n",
    "- **zip** *(iterable1, iterable2, ...)*: pair elements from multiple iterables together into **tuples**, element by element.\n",
    "\n",
    "- **reduce** *(function, iterable, initializer)*:apply a function cummulatively to the items of an interable, reudcing the interabe to a single value."
   ]
  },
  {
   "cell_type": "code",
   "execution_count": 1,
   "id": "fbbdb34e-5211-468a-bd4e-8f1af4b29126",
   "metadata": {},
   "outputs": [
    {
     "name": "stdout",
     "output_type": "stream",
     "text": [
      "['APPLE', 'LEMON', 'PEACH']\n"
     ]
    }
   ],
   "source": [
    "# map\n",
    "fruit = ['apple', 'lemon', 'peach']\n",
    "\n",
    "upper_fruit = list(map(str.upper, fruit))\n",
    "print(upper_fruit)"
   ]
  },
  {
   "cell_type": "code",
   "execution_count": 4,
   "id": "878adad9-4504-48c2-aeb3-3f47c9ae0e65",
   "metadata": {},
   "outputs": [
    {
     "name": "stdout",
     "output_type": "stream",
     "text": [
      "[5]\n"
     ]
    }
   ],
   "source": [
    "# filter\n",
    "mylist = [2,4,5,8]\n",
    "def odd_num(num):\n",
    "    return num % 2 != 0\n",
    "\n",
    "print(list(filter(odd_num, mylist)))"
   ]
  },
  {
   "cell_type": "code",
   "execution_count": 7,
   "id": "21f5316b-2dce-4846-aab9-4b5ca8b35cc9",
   "metadata": {},
   "outputs": [
    {
     "name": "stdout",
     "output_type": "stream",
     "text": [
      "[(1, 'a'), (2, 'b'), (3, 'c'), (4, 'd')]\n"
     ]
    }
   ],
   "source": [
    "# zip\n",
    "list1 = [1,2,3,4]\n",
    "list2 = ['a', 'b', 'c', 'd']\n",
    "print(list(zip(list1, list2)))"
   ]
  },
  {
   "cell_type": "code",
   "execution_count": 14,
   "id": "87a033cd-2c22-4169-a658-88dc2c49dc73",
   "metadata": {},
   "outputs": [
    {
     "name": "stdout",
     "output_type": "stream",
     "text": [
      "19\n"
     ]
    }
   ],
   "source": [
    "# reduce\n",
    "from functools import reduce   # call reduce() from functools module\n",
    "\n",
    "nums = [1,2,3,4, 9]\n",
    "\n",
    "def accumulator(acc, item): # acc: the accumulator-starts with the initializer\n",
    "    return acc + item  # item: item in the list\n",
    "\n",
    "print(reduce(accumulator, nums, 0))   # call accumulator for each item in the list, starting with acc = 0.\n"
   ]
  },
  {
   "cell_type": "markdown",
   "id": "af866bf3-235d-4336-8e81-f9a5489bba32",
   "metadata": {},
   "source": [
    "&nbsp;"
   ]
  },
  {
   "cell_type": "markdown",
   "id": "0248529e-2e4c-4d64-b7cd-a22e125ba592",
   "metadata": {},
   "source": [
    "#### 3. Lambda expression\n",
    "- write short, anonymous (no name) functions that will only be used once.\n",
    "- **`lambda parameter: action on parameter`**"
   ]
  },
  {
   "cell_type": "code",
   "execution_count": 18,
   "id": "aa62e07d-dddf-484d-b708-8f40a3a65a96",
   "metadata": {},
   "outputs": [
    {
     "name": "stdout",
     "output_type": "stream",
     "text": [
      "[4, 16, 36, 64, 81, 9]\n",
      "[2, 4, 6, 8]\n",
      "32\n"
     ]
    }
   ],
   "source": [
    "# lambda expression\n",
    "my_list = [2,4,6,8,9,3]\n",
    "\n",
    "print(list(map(lambda item: item**2, my_list)))\n",
    "\n",
    "print(list(filter(lambda item: item % 2 == 0, my_list)))\n",
    "\n",
    "from functools import reduce\n",
    "print(reduce(lambda item, acc: acc + item, my_list, 0))"
   ]
  },
  {
   "cell_type": "markdown",
   "id": "07fc5c80-ddb4-4a4d-8243-220d3e341583",
   "metadata": {},
   "source": [
    "&nbsp;"
   ]
  },
  {
   "cell_type": "markdown",
   "id": "8db6e85e-9eb9-45e9-8524-6c2edec05c5b",
   "metadata": {},
   "source": [
    "#### 4.Comprehensions\n",
    "- **list comprehension** create a new list by transforming or filtering elements from another iterable.\n",
    "  - `[expression for item in iterable if condition]`\n",
    "- **set comprehension**: create a new set\n",
    "  - `{expression for item in iterable if condition}`\n",
    "- **dictionary comprehension**：build a dictionary from key-vlaue repairs, possibly transforming them,\n",
    "  - `{key_expr:value_expr for item in iterable if condition}`\n"
   ]
  },
  {
   "cell_type": "code",
   "execution_count": 24,
   "id": "77ba3756-aa59-4132-a978-1d078a660270",
   "metadata": {},
   "outputs": [
    {
     "name": "stdout",
     "output_type": "stream",
     "text": [
      "['B', 'o', 'n', 'i', 'u', 'n', 'i', 'u']\n",
      "[0, 1, 2, 3, 4, 5, 6, 7, 8, 9, 10, 11]\n",
      "[0, 2, 4, 6, 8, 10, 12, 14, 16, 18, 20, 22]\n",
      "[0, 2, 4, 6, 8, 10]\n"
     ]
    }
   ],
   "source": [
    "# list comprehension\n",
    "mylist0 = [char for char in 'Boniuniu']\n",
    "print(mylist0)\n",
    "\n",
    "mylist1 = [num for num in range (0, 12)]\n",
    "print(mylist1)\n",
    "\n",
    "mylist2 = [num*2 for num in range (0, 12)]\n",
    "print(mylist2)\n",
    "\n",
    "mylist3 = [num for num in range (0, 12) if num % 2 == 0]\n",
    "print(mylist3)"
   ]
  },
  {
   "cell_type": "code",
   "execution_count": 26,
   "id": "a3feca74-0961-426e-bb38-4712aa96fdf2",
   "metadata": {},
   "outputs": [
    {
     "name": "stdout",
     "output_type": "stream",
     "text": [
      "{'u', 'i', 'o', 'B', 'n'}\n"
     ]
    }
   ],
   "source": [
    "# set comprehension\n",
    "# set doesn't have duplicates\n",
    "myset0 = {char for char in 'Boniuniu'}\n",
    "print(myset0)"
   ]
  },
  {
   "cell_type": "code",
   "execution_count": 28,
   "id": "0091cdd7-82c8-4b9c-8bea-c26f78ec772e",
   "metadata": {},
   "outputs": [
    {
     "name": "stdout",
     "output_type": "stream",
     "text": [
      "{1: 1, 2: 4, 3: 9}\n"
     ]
    }
   ],
   "source": [
    "# dictionary comprehension\n",
    "mydic0 = {num: num**2 for num in [1,2,3] }\n",
    "print(mydic0)"
   ]
  },
  {
   "cell_type": "code",
   "execution_count": null,
   "id": "be4087b7-afd7-4994-b28b-7d7e981624b7",
   "metadata": {},
   "outputs": [],
   "source": []
  },
  {
   "cell_type": "code",
   "execution_count": null,
   "id": "5129284f-f54b-4e9f-9274-c68f55743a75",
   "metadata": {},
   "outputs": [],
   "source": []
  },
  {
   "cell_type": "code",
   "execution_count": null,
   "id": "8e4942b8-cbac-4d67-8c67-9d97e58c74f1",
   "metadata": {},
   "outputs": [],
   "source": []
  }
 ],
 "metadata": {
  "kernelspec": {
   "display_name": "Python 3 (ipykernel)",
   "language": "python",
   "name": "python3"
  },
  "language_info": {
   "codemirror_mode": {
    "name": "ipython",
    "version": 3
   },
   "file_extension": ".py",
   "mimetype": "text/x-python",
   "name": "python",
   "nbconvert_exporter": "python",
   "pygments_lexer": "ipython3",
   "version": "3.13.2"
  }
 },
 "nbformat": 4,
 "nbformat_minor": 5
}
