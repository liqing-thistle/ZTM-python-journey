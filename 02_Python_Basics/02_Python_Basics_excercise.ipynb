{
 "cells": [
  {
   "cell_type": "markdown",
   "id": "7096e59c-d955-483d-a620-0708c988f93a",
   "metadata": {},
   "source": [
    "## 02 Python Basics_Excercise"
   ]
  },
  {
   "cell_type": "markdown",
   "id": "5b05c37e-c73b-4162-ac28-ad00e857df5f",
   "metadata": {},
   "source": [
    "#### 1. GUI\n",
    "**For the matrix below, print ' ' when it's 0, and print '*' when it's 1.**\n",
    "```\n",
    "picture = [\n",
    "    [0,0,0,1,0,0,0],\n",
    "    [0,0,1,1,1,0,0],\n",
    "    [0,1,1,1,1,1,0],\n",
    "    [1,1,1,1,1,1,1],\n",
    "    [0,0,0,1,0,0,0],\n",
    "    [0,0,0,1,0,0,0]\n",
    "]\n",
    "```"
   ]
  },
  {
   "cell_type": "code",
   "execution_count": 1,
   "id": "4ea2fd2c-a76e-4595-802a-d4bb5db91fef",
   "metadata": {},
   "outputs": [
    {
     "name": "stdout",
     "output_type": "stream",
     "text": [
      "      *        \n",
      "    * * *      \n",
      "  * * * * *    \n",
      "* * * * * * *  \n",
      "      *        \n",
      "      *        \n",
      "The history saving thread hit an unexpected error (OperationalError('attempt to write a readonly database')).History will not be written to the database.\n"
     ]
    }
   ],
   "source": [
    "# Solution 1 - for loop\n",
    "picture = [\n",
    "    [0,0,0,1,0,0,0],\n",
    "    [0,0,1,1,1,0,0],\n",
    "    [0,1,1,1,1,1,0],\n",
    "    [1,1,1,1,1,1,1],\n",
    "    [0,0,0,1,0,0,0],\n",
    "    [0,0,0,1,0,0,0]\n",
    "]\n",
    "\n",
    "for row in picture:\n",
    "    for col in row:\n",
    "        if col == 0:\n",
    "            print(' ', end = ' ')\n",
    "        else:\n",
    "            print('*', end = ' ')\n",
    "    print(' ')"
   ]
  },
  {
   "cell_type": "code",
   "execution_count": 2,
   "id": "61916e81-8676-4ac4-be3d-41a4c2c54fc4",
   "metadata": {},
   "outputs": [
    {
     "name": "stdout",
     "output_type": "stream",
     "text": [
      "      *       \n",
      "    * * *     \n",
      "  * * * * *   \n",
      "* * * * * * * \n",
      "      *       \n",
      "      *       \n"
     ]
    }
   ],
   "source": [
    "# Solution 2 - while loop\n",
    "picture = [\n",
    "    [0,0,0,1,0,0,0],\n",
    "    [0,0,1,1,1,0,0],\n",
    "    [0,1,1,1,1,1,0],\n",
    "    [1,1,1,1,1,1,1],\n",
    "    [0,0,0,1,0,0,0],\n",
    "    [0,0,0,1,0,0,0]\n",
    "]\n",
    "\n",
    "i = 0\n",
    "j = 0\n",
    "while i < len(picture):\n",
    "    while j < len(picture[i]):\n",
    "        if picture[i][j] == 0:\n",
    "            print(' ', end = ' ')\n",
    "            j = j + 1\n",
    "        else:\n",
    "            print('*', end = ' ')\n",
    "            j = j + 1\n",
    "    print('')\n",
    "    i = i + 1\n",
    "    j = 0"
   ]
  },
  {
   "cell_type": "markdown",
   "id": "28e295c2-8284-4dce-83d0-44ac6cb534b1",
   "metadata": {},
   "source": [
    "&nbsp;"
   ]
  },
  {
   "cell_type": "markdown",
   "id": "8833fa2c-1de7-4576-8490-f6463923a605",
   "metadata": {},
   "source": [
    "#### 2. Find duplicates\n",
    "check for duplicates in the list, and return the duplicated value:\n",
    "```\n",
    "list1 = ['a', 'b', 'c', 'b', 'd', 'm', 'n', 'n']\n",
    "```"
   ]
  },
  {
   "cell_type": "code",
   "execution_count": 3,
   "id": "9b4a5c70-f712-420c-a003-37071d011d32",
   "metadata": {},
   "outputs": [
    {
     "name": "stdout",
     "output_type": "stream",
     "text": [
      "['m', 'a', 'd', 'c', 'b', 'n']\n",
      "['b', 'n']\n"
     ]
    }
   ],
   "source": [
    "# solution\n",
    "list1 = ['a', 'b', 'c', 'b', 'd', 'm', 'n', 'n']\n",
    "set1 = set(list1)  # set only inlcude unique items\n",
    "list1_uniq = list(set1)\n",
    "print(list1_uniq)\n",
    "\n",
    "duplicates = []\n",
    "for i in list1_uniq:\n",
    "    num = list1.count(i)\n",
    "    if num > 1:\n",
    "        duplicates.append(i)\n",
    "\n",
    "print(duplicates)"
   ]
  },
  {
   "cell_type": "markdown",
   "id": "98d614c4-f13c-4978-b172-de2610c5f125",
   "metadata": {},
   "source": [
    "&nbsp;"
   ]
  },
  {
   "cell_type": "markdown",
   "id": "9c25272c-df32-464c-a254-de99d4f5c35e",
   "metadata": {},
   "source": [
    "#### 3. Tesla\n",
    "```\n",
    "age = input(\"What is your age?: \")\n",
    "\n",
    "if int(age) < 18:\n",
    "\tprint(\"Sorry, you are too young to drive this car. Powering off\")\n",
    "elif int(age) > 18:\n",
    "\tprint(\"Powering On. Enjoy the ride!\");\n",
    "elif int(age) == 18:\n",
    "\tprint(\"Congratulations on your first year of driving. Enjoy the ride!\")\n",
    "```\n",
    "- 1.Wrap the above code in a function called checkDriverAge(). Whenever you call this function, you will get prompted for age. \n",
    "** Notice the benefit in having checkDriverAge() instead of copying and pasting the function everytime?**\n",
    "\n",
    "- 2.Instead of using the input(). Now, make the checkDriverAge() function accept an argument of age, so that if you enter:\n",
    "#checkDriverAge(92);\n",
    "#it returns \"Powering On. Enjoy the ride!\"\n",
    "#also make it so that the default age is set to 0 if no argument is given."
   ]
  },
  {
   "cell_type": "markdown",
   "id": "51a3648e-427d-4c7a-b4ff-61358a1003dd",
   "metadata": {},
   "source": [
    "# 1. \n",
    "def checkDriverAge():\n",
    "    age = input('what is your age?: ')\n",
    "    if int(age) < 18:\n",
    "        print('Sorry, you are too young to drive this car. Powering off')\n",
    "    elif int(age) > 18:\n",
    "        print('Powering on. Enjoy the ride!')\n",
    "    elif int(age) == 18:\n",
    "        print('Congradulations on your first year of driving. Enjoy the ride!')\n",
    "\n",
    "checkDriverAge()"
   ]
  },
  {
   "cell_type": "code",
   "execution_count": 6,
   "id": "33488ca0-32f2-4e67-90dc-82fb8f19dabd",
   "metadata": {},
   "outputs": [
    {
     "name": "stdout",
     "output_type": "stream",
     "text": [
      "Powering on. Enjoy the ride!\n",
      "Sorry, you are too young to drive this car. Powering off\n"
     ]
    }
   ],
   "source": [
    "# 2\n",
    "def checkDriverAge(age = 0):\n",
    "    if int(age) < 18:\n",
    "        print('Sorry, you are too young to drive this car. Powering off')\n",
    "    elif int(age) > 18:\n",
    "        print('Powering on. Enjoy the ride!')\n",
    "    elif int(age) == 18:\n",
    "        print('Congradulations on your first year of driving. Enjoy the ride!')\n",
    "\n",
    "checkDriverAge(92)\n",
    "checkDriverAge()"
   ]
  },
  {
   "cell_type": "markdown",
   "id": "503cf799-2f7b-4f67-9b94-ef7d097665c3",
   "metadata": {},
   "source": [
    "&nbsp;"
   ]
  },
  {
   "cell_type": "markdown",
   "id": "c79c23c0-3a06-410a-91b1-f6fe596ffe55",
   "metadata": {},
   "source": [
    "#### 4. Function exercise\n",
    "- Write a function to find the highest even number in the given list.\n",
    "```\n",
    "def highest_even(target_list):\n",
    "    pass\n",
    "```\n",
    "print(highest_even([10,2,3,4,8,11]))\n"
   ]
  },
  {
   "cell_type": "code",
   "execution_count": 4,
   "id": "1ba5c6b4-24e8-4366-bbcc-19d876334e5e",
   "metadata": {},
   "outputs": [
    {
     "name": "stdout",
     "output_type": "stream",
     "text": [
      "10\n"
     ]
    }
   ],
   "source": [
    "# solution 1: use .sort\n",
    "def highest_even(target_list):\n",
    "    even_list = []\n",
    "    for num in target_list:\n",
    "        if num % 2 == 0:\n",
    "            even_list.append(num)\n",
    "    even_list.sort(reverse = True)\n",
    "    return even_list[0]\n",
    "            \n",
    "print(highest_even([10,2,3,4,8,11]))"
   ]
  },
  {
   "cell_type": "code",
   "execution_count": 5,
   "id": "00236c4d-fd73-45b8-aeca-4245aeb4023a",
   "metadata": {},
   "outputs": [
    {
     "name": "stdout",
     "output_type": "stream",
     "text": [
      "10\n"
     ]
    }
   ],
   "source": [
    "# solution 2: use max\n",
    "def highest_even(target_list):\n",
    "    even_list = []\n",
    "    for num in target_list:\n",
    "        if num % 2 == 0:\n",
    "            even_list.append(num)\n",
    "    return max(even_list)\n",
    "            \n",
    "print(highest_even([10,2,3,4,8,11]))"
   ]
  },
  {
   "cell_type": "code",
   "execution_count": null,
   "id": "e9f848ea-0f09-45e6-8317-27ede589c729",
   "metadata": {},
   "outputs": [],
   "source": []
  }
 ],
 "metadata": {
  "kernelspec": {
   "display_name": "Python 3 (ipykernel)",
   "language": "python",
   "name": "python3"
  },
  "language_info": {
   "codemirror_mode": {
    "name": "ipython",
    "version": 3
   },
   "file_extension": ".py",
   "mimetype": "text/x-python",
   "name": "python",
   "nbconvert_exporter": "python",
   "pygments_lexer": "ipython3",
   "version": "3.13.2"
  }
 },
 "nbformat": 4,
 "nbformat_minor": 5
}
