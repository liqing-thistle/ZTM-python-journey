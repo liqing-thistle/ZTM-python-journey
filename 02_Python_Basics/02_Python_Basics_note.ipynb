{
 "cells": [
  {
   "cell_type": "markdown",
   "id": "87ade719-ab36-4b7a-8c91-e444bc4b24d8",
   "metadata": {},
   "source": [
    "## 02 Python Basics"
   ]
  },
  {
   "cell_type": "markdown",
   "id": "e86e173a-b675-47db-8f7a-6283ceae9e22",
   "metadata": {},
   "source": [
    "&nbsp;"
   ]
  },
  {
   "cell_type": "markdown",
   "id": "94031299-7ebb-4908-a18f-8f48978e34cd",
   "metadata": {},
   "source": [
    "### 1. Conditional logic"
   ]
  },
  {
   "cell_type": "markdown",
   "id": "cf54f800-8331-4deb-8a1c-adc0880d4b90",
   "metadata": {},
   "source": [
    "#### 1.1 if, elif, else\n",
    "- you can have **multiple** elif.\n",
    "- **Ternary operator**: a way to write `if-else` statement in a single line.\n",
    "  - *value_if_true `if` condition `else` value_if_false*\n",
    "- **Short circuiting**: how logical operator (`and`, `or`) evaluate expression **from left to right** and stop early when the result is already determined.\n",
    "- **Logical operators**: `>`, `<`, `==`, `>=`, `<=`, `!=`, `and`, `or`, `not`\n",
    "  - `==`: check if two values are equal\n",
    "  - `is`: check if two variables point to the exact same location in the memory.\n",
    "  "
   ]
  },
  {
   "cell_type": "code",
   "execution_count": 6,
   "id": "6fc1b42e-3212-438c-86f1-9ae147ceb59f",
   "metadata": {},
   "outputs": [
    {
     "name": "stdin",
     "output_type": "stream",
     "text": [
      "what is your username? haha\n",
      "what is your password? 888888\n"
     ]
    },
    {
     "name": "stdout",
     "output_type": "stream",
     "text": [
      "Wrong password and username :(:(\n"
     ]
    }
   ],
   "source": [
    "# if elif else example\n",
    "username = input('what is your username?')\n",
    "password = input('what is your password?')\n",
    "correct_username = 'Haha'\n",
    "correct_password = '666888'\n",
    "\n",
    "if username == correct_username and password == correct_password:\n",
    "    print('Congradulations! You\\'re looged in.')\n",
    "elif username == correct_username and password != correct_password:\n",
    "    print('Wrong password :(')\n",
    "elif username != correct_username and password == correct_password:\n",
    "    print('Wrong username :(')\n",
    "else:\n",
    "    print('Wrong password and username :(:(')"
   ]
  },
  {
   "cell_type": "code",
   "execution_count": 9,
   "id": "349f140b-9b1c-4936-8336-7142b263713e",
   "metadata": {},
   "outputs": [
    {
     "name": "stdin",
     "output_type": "stream",
     "text": [
      "what is your age? 16\n"
     ]
    },
    {
     "name": "stdout",
     "output_type": "stream",
     "text": [
      "Minor\n"
     ]
    }
   ],
   "source": [
    "# ternary operator\n",
    "age = int(input('what is your age?'))\n",
    "status = 'Adult' if age >= 18 else 'Minor'\n",
    "print(status)"
   ]
  },
  {
   "cell_type": "code",
   "execution_count": 13,
   "id": "db4ee5d8-c73b-40b8-837f-116a8cae8735",
   "metadata": {},
   "outputs": [
    {
     "name": "stdout",
     "output_type": "stream",
     "text": [
      "0\n",
      "5\n"
     ]
    }
   ],
   "source": [
    "# short circuiting\n",
    "x = 0 and 5   # and: return first False or last True.\n",
    "y = 0 or 5    # or: return first True or last False.\n",
    "print(x)\n",
    "print(y)"
   ]
  },
  {
   "cell_type": "code",
   "execution_count": 16,
   "id": "acff47a8-44ff-4009-b20c-d8a7dbc60fb2",
   "metadata": {},
   "outputs": [
    {
     "name": "stdout",
     "output_type": "stream",
     "text": [
      "at least you are getting there.\n"
     ]
    }
   ],
   "source": [
    "# logical operator\n",
    "is_magician = True\n",
    "is_expert = False\n",
    "if is_magician and is_expert:\n",
    "    print('you are a master magician!')\n",
    "elif is_magician:\n",
    "    print('at least you are getting there.')\n",
    "else:\n",
    "    print('you need magic powers.')"
   ]
  },
  {
   "cell_type": "code",
   "execution_count": 20,
   "id": "72dae900-0f61-4e77-9d8d-95465295b70d",
   "metadata": {},
   "outputs": [
    {
     "name": "stdout",
     "output_type": "stream",
     "text": [
      "True\n",
      "False\n",
      "True\n",
      "False\n",
      "True\n"
     ]
    },
    {
     "name": "stderr",
     "output_type": "stream",
     "text": [
      "<>:3: SyntaxWarning: \"is\" with 'int' literal. Did you mean \"==\"?\n",
      "<>:3: SyntaxWarning: \"is\" with 'int' literal. Did you mean \"==\"?\n",
      "/tmp/ipykernel_96725/2949131112.py:3: SyntaxWarning: \"is\" with 'int' literal. Did you mean \"==\"?\n",
      "  print(True is 1)\n"
     ]
    }
   ],
   "source": [
    "# is vs ==\n",
    "print(True == 1)\n",
    "print(True is 1)\n",
    "print(True is True)\n",
    "\n",
    "a = [1,2,3]\n",
    "b = [1,2,3]\n",
    "print(a is b)  # a and b were stored in different memory location\n",
    "print(a == b)"
   ]
  },
  {
   "cell_type": "markdown",
   "id": "fcfc023b-3970-489a-bcc3-1ab35e75311f",
   "metadata": {},
   "source": [
    "&nbsp;"
   ]
  },
  {
   "cell_type": "markdown",
   "id": "bb24822a-ef16-4c97-b90b-8015362e3a5e",
   "metadata": {},
   "source": [
    "#### 1.2 For loops\n",
    "- **for loop**\n",
    "  - `for key, value in dict.items()`\n",
    "  - `for value in dict.values()`\n",
    "  - `for key in dict.keys()`\n",
    "- **iterable**:any object you can loop over\n",
    "  - including: **list, dictionary, tuple, set, string, range**\n",
    "  - iterate: check each item one by one in the collection\n",
    "- **range**:\n",
    "  - **range(start, stop, stepover)**: range(10, 0, -1)\n",
    "- **enumerate**:\n",
    "  -make you loop over an iterable and **get both the index and the item** at the same time."
   ]
  },
  {
   "cell_type": "code",
   "execution_count": 21,
   "id": "027a8758-e28c-48ba-bc45-901859a91ad5",
   "metadata": {},
   "outputs": [
    {
     "name": "stdout",
     "output_type": "stream",
     "text": [
      "1 a\n",
      "1 b\n",
      "2 a\n",
      "2 b\n",
      "3 a\n",
      "3 b\n"
     ]
    }
   ],
   "source": [
    "# for loop\n",
    "for i in [1,2,3]:\n",
    "    for j in ['a', 'b']:\n",
    "        print(i, j)"
   ]
  },
  {
   "cell_type": "code",
   "execution_count": 29,
   "id": "88a43555-85d8-4199-8cb2-9f2f1c062aad",
   "metadata": {},
   "outputs": [
    {
     "name": "stdout",
     "output_type": "stream",
     "text": [
      "[0, 1, 2, 3, 4, 5, 6, 7, 8, 9, 10]\n",
      "11\n",
      "55\n"
     ]
    }
   ],
   "source": [
    "# counter\n",
    "mylist = list(range(0, 11))\n",
    "print(mylist)\n",
    "print(len(mylist))\n",
    "\n",
    "counter = 0\n",
    "for i in mylist:\n",
    "    counter = counter + i\n",
    "print(counter)"
   ]
  },
  {
   "cell_type": "code",
   "execution_count": 31,
   "id": "1eeb9b26-2083-4277-a4a9-13e3e6f889c6",
   "metadata": {
    "jupyter": {
     "source_hidden": true
    }
   },
   "outputs": [
    {
     "name": "stdout",
     "output_type": "stream",
     "text": [
      "10\n",
      "9\n",
      "8\n",
      "7\n",
      "6\n",
      "5\n",
      "4\n",
      "3\n",
      "2\n",
      "1\n"
     ]
    }
   ],
   "source": [
    "# range\n",
    "a = range(10, 0, -1)\n",
    "for i in a:\n",
    "    print(i)"
   ]
  },
  {
   "cell_type": "code",
   "execution_count": 33,
   "id": "413500ff-f8a3-4399-b1c0-ae8f5bce198b",
   "metadata": {},
   "outputs": [
    {
     "name": "stdout",
     "output_type": "stream",
     "text": [
      "0 0\n",
      "1 1\n",
      "2 2\n",
      "3 3\n",
      "4 4\n",
      "index of 4 is: 4\n"
     ]
    }
   ],
   "source": [
    "# enumenrate\n",
    "for i, char in enumerate(list(range(5))):\n",
    "    print(i, char)\n",
    "    if char == 4:\n",
    "        print(f'index of 4 is: {i}')"
   ]
  },
  {
   "cell_type": "markdown",
   "id": "2f4cd0e6-7111-48dd-8f77-6935220ed4a9",
   "metadata": {},
   "source": [
    "&nbsp;"
   ]
  },
  {
   "cell_type": "markdown",
   "id": "c67a7125-8def-4dad-b5ea-df0c6eb891e9",
   "metadata": {},
   "source": [
    "#### 1.3 while loop\n",
    "- **while** loop:run some code until a certain logical expression is satisfied. (we don't know how many times we need to repeat in advance)\n",
    "\n",
    "- **break**: *exit the loop immediately*, the code after `break`will not be executed.\n",
    "- **continue**: skip the rest of the current loop, go back to run the next loop.\n",
    "- **pass**: placeholder where code is required but you don't want to put anything now."
   ]
  },
  {
   "cell_type": "code",
   "execution_count": null,
   "id": "16ebef11-abe3-476f-b93d-77484830c9b2",
   "metadata": {},
   "outputs": [],
   "source": [
    "# infinite loop\n",
    "i = 0\n",
    "while 0 < 10:\n",
    "    print(i)\n",
    "    break "
   ]
  },
  {
   "cell_type": "code",
   "execution_count": null,
   "id": "7948041d-cf40-4f77-a02c-2699e2f92bf9",
   "metadata": {},
   "outputs": [],
   "source": [
    "i = 0\n",
    "while i < 10:\n",
    "    print(i)\n",
    "    i = i + 1\n",
    "    break\n",
    "else:\n",
    "    print('done with all the work')"
   ]
  },
  {
   "cell_type": "code",
   "execution_count": 34,
   "id": "08ce7907-6868-4133-a048-092b84a190c7",
   "metadata": {},
   "outputs": [
    {
     "name": "stdin",
     "output_type": "stream",
     "text": [
      "say something: hi\n",
      "say something: bye\n"
     ]
    }
   ],
   "source": [
    "# break\n",
    "while True:\n",
    "    response = input('say something:')\n",
    "    if response == 'bye':\n",
    "        break"
   ]
  },
  {
   "cell_type": "code",
   "execution_count": 40,
   "id": "3a35d592-fcc9-43e8-8d90-f16975bdf47c",
   "metadata": {},
   "outputs": [],
   "source": [
    "# continue\n",
    "mylist = [1,2,3]\n",
    "for i in mylist:\n",
    "    continue   # print after continue will not be executed. It will go back to for loop to run next one.\n",
    "    print(mylist[i])"
   ]
  },
  {
   "cell_type": "code",
   "execution_count": 43,
   "id": "807e0731-6376-419a-8709-75e91c747162",
   "metadata": {},
   "outputs": [
    {
     "name": "stdout",
     "output_type": "stream",
     "text": [
      "0\n",
      "1\n",
      "2\n",
      "3\n",
      "4\n"
     ]
    }
   ],
   "source": [
    "# pass\n",
    "for i in range(5):\n",
    "    if i == 3:\n",
    "        pass # do nothing.\n",
    "    print(i)"
   ]
  },
  {
   "cell_type": "markdown",
   "id": "e72a7408-6a68-441b-81cd-4d0b066a7b09",
   "metadata": {},
   "source": [
    "&nbsp;"
   ]
  },
  {
   "cell_type": "markdown",
   "id": "86ed654d-5129-416f-aa42-c735108ef9cc",
   "metadata": {},
   "source": [
    "### 2. Functions"
   ]
  },
  {
   "cell_type": "markdown",
   "id": "f2660cad-d127-4647-a2e4-d96196973877",
   "metadata": {},
   "source": [
    "#### 2.1 Functions\n",
    "- `def function_name(parameters):`\n",
    "  - rule of parameter orders: **parameters -> \\*args -> default parameters -> \\*\\*kwargs**\n",
    "- **Parameters**: the variables listed *in the function definition*, **placeholders** for arguments.\n",
    "  -**defulat parameters**: parameters that *have default value assigned* in the function definition.\n",
    "  \n",
    "- **Arguments**: the **actual value** passed into the function when *call the function*.\n",
    "  - **positional arguments**: *passed in order*, matched to parameters by position.\n",
    "  - **keyword arguments**: *passed by name*, not position.\n",
    "\n",
    "- **Return**:\n",
    "  - without `return`, function will return `None`.\n",
    "  - return automatically exit the function.\n",
    "\n",
    "- **Docstrings**:\n",
    "  - written as *the first statement* inside of the function used to describe/comment what a function does.\n",
    "  - enclosed in triple quotes (**''' '''**)\n",
    "\n",
    "- **\\*args** & **\\*\\*kwargs**:\n",
    "  - **\\*args**: non-keyword (positional) arguments: allow function to **accept any number of positional arguments**. It collects them into a **tuple**.\n",
    "  - **\\*\\*kwargs**: keyword arguments: allows function to **accept any number of keyword arguments**. It collects them in a **dictionary**.\n",
    "  \n",
    "  \n"
   ]
  },
  {
   "cell_type": "code",
   "execution_count": 1,
   "id": "a1251a88-766c-466b-a2a9-1bf19414b208",
   "metadata": {},
   "outputs": [
    {
     "name": "stdout",
     "output_type": "stream",
     "text": [
      "Hello Haha 😀\n",
      "Hello Dudu 😀\n"
     ]
    }
   ],
   "source": [
    "# function\n",
    "# positional arguments\n",
    "def say_hello(name, emoji):\n",
    "    '''\n",
    "    say hello to the user by name with an emoji.\n",
    "    '''\n",
    "    print(f'Hello {name} {emoji}')\n",
    "\n",
    "say_hello('Haha', '😀')\n",
    "\n",
    "# keyword arguments\n",
    "say_hello(emoji='😀', name = 'Dudu')\n",
    "\n"
   ]
  },
  {
   "cell_type": "code",
   "execution_count": 4,
   "id": "0b597cbc-c7a4-49ce-b339-7ba567c1f735",
   "metadata": {},
   "outputs": [
    {
     "name": "stdout",
     "output_type": "stream",
     "text": [
      "Good bye kuku see you tomorrow!\n"
     ]
    }
   ],
   "source": [
    "# default parameters\n",
    "def say_bey(name = 'kuku', word = 'Good bye'):\n",
    "    print(f'{word} {name} see you tomorrow!')\n",
    "\n",
    "say_bey()"
   ]
  },
  {
   "cell_type": "code",
   "execution_count": 4,
   "id": "0d31d591-be4f-4e43-9ccc-1763ef5430ab",
   "metadata": {},
   "outputs": [
    {
     "data": {
      "text/plain": [
       "False"
      ]
     },
     "execution_count": 4,
     "metadata": {},
     "output_type": "execute_result"
    }
   ],
   "source": [
    "# clean code\n",
    "def is_even(num):\n",
    "    return num % 2 == 0\n",
    "\n",
    "is_even(7)\n",
    "        "
   ]
  },
  {
   "cell_type": "code",
   "execution_count": 5,
   "id": "54db966e-c364-4f8a-8e15-7f84f88c8681",
   "metadata": {},
   "outputs": [
    {
     "name": "stdout",
     "output_type": "stream",
     "text": [
      "40\n"
     ]
    }
   ],
   "source": [
    "# *args vs **kwargs\n",
    "def super_func(*args, **kwargs):\n",
    "    total = 0\n",
    "    for items in kwargs.values():  # kwargs collects input into a dictionary\n",
    "        total = total + items\n",
    "    return sum(args) + total\n",
    "\n",
    "print(super_func(1,2,3,4,5, num1 = 10, num2 = 15))"
   ]
  },
  {
   "cell_type": "markdown",
   "id": "c57a586d-d3c1-4e13-b028-551316923f57",
   "metadata": {},
   "source": [
    "&nbsp;"
   ]
  },
  {
   "cell_type": "markdown",
   "id": "9d8a13ce-f06d-47d1-8be3-dac623b81d45",
   "metadata": {},
   "source": [
    "#### 2.2 Others\n",
    "- **Walrus operator (`:=`)**: assign a value to a variable as part of an expression.\n",
    "\n",
    "- **Scope**: what variables do I have access to.\n",
    "    - 1)start with **local scope** (*inside the function*)\n",
    "    - 2)**parent** local scope (outside of the function, but inside of its parent function)\n",
    "    - 3)**global scope** (*outside of any function*)\n",
    "    - 4)**buil-in scope** (come from python itself)\n",
    "\n",
    "- **global** keyword: used inside a function to indicate that a variable is a global variable.\n",
    "\n",
    "- **nonlocal** keyword: used to modify a variable inside the nested functions (parent scope)"
   ]
  },
  {
   "cell_type": "code",
   "execution_count": 3,
   "id": "61361b33-816f-48f7-9e79-94d5771b02d7",
   "metadata": {},
   "outputs": [
    {
     "name": "stdin",
     "output_type": "stream",
     "text": [
      "Enter something: haha\n"
     ]
    },
    {
     "name": "stdout",
     "output_type": "stream",
     "text": [
      "You entered: haha\n"
     ]
    },
    {
     "name": "stdin",
     "output_type": "stream",
     "text": [
      "Enter something: haha\n"
     ]
    },
    {
     "name": "stdout",
     "output_type": "stream",
     "text": [
      "You entered: haha\n"
     ]
    }
   ],
   "source": [
    "# before walrus operator\n",
    "value = input('Enter something:')\n",
    "if value:\n",
    "    print('You entered:', value)\n",
    "\n",
    "# with walrus operator\n",
    "if (value := input('Enter something:')):\n",
    "    print('You entered:', value)"
   ]
  },
  {
   "cell_type": "code",
   "execution_count": 18,
   "id": "f64b8bd2-37b4-4637-9c9a-a0002f63c20f",
   "metadata": {},
   "outputs": [
    {
     "name": "stdout",
     "output_type": "stream",
     "text": [
      "Hello\n"
     ]
    }
   ],
   "source": [
    "# scope\n",
    "def outer():\n",
    "    msg = \"Hello\"\n",
    "\n",
    "    def inner():\n",
    "        print(msg)  # accessing enclosing scope\n",
    "    inner()\n",
    "\n",
    "outer()"
   ]
  },
  {
   "cell_type": "code",
   "execution_count": 25,
   "id": "fef13980-55ce-4479-aec7-ffe7ed8bd81e",
   "metadata": {},
   "outputs": [
    {
     "name": "stdout",
     "output_type": "stream",
     "text": [
      "20\n",
      "20\n"
     ]
    }
   ],
   "source": [
    "# global keyword\n",
    "a = 10\n",
    "\n",
    "def update():\n",
    "    global a\n",
    "    a = 20     # this updates the global 'a'\n",
    "    print(a)\n",
    "\n",
    "update()\n",
    "print(a)"
   ]
  },
  {
   "cell_type": "code",
   "execution_count": 30,
   "id": "a4e72c38-9b54-48e3-8fd9-a706a43a4f94",
   "metadata": {},
   "outputs": [
    {
     "name": "stdout",
     "output_type": "stream",
     "text": [
      "inner nonlocal\n",
      "outer: nonlocal\n"
     ]
    }
   ],
   "source": [
    "# nonlocal keyword\n",
    "def outer():\n",
    "    x = 'local'\n",
    "    def inner():\n",
    "        nonlocal x    # nonlocal indicates x here represents x = local in parent scope\n",
    "        x = 'nonlocal' # update x = local to nonlocal\n",
    "        print('inner', x)\n",
    "    inner()\n",
    "    print('outer:', x)\n",
    "\n",
    "outer()\n"
   ]
  },
  {
   "cell_type": "code",
   "execution_count": null,
   "id": "aabf26de-a7b7-454e-b978-29a09a871529",
   "metadata": {},
   "outputs": [],
   "source": [
    "my-var = print('aa')"
   ]
  },
  {
   "cell_type": "code",
   "execution_count": null,
   "id": "0b4c01b9-b7f7-4155-bf75-462d6908ffad",
   "metadata": {},
   "outputs": [],
   "source": []
  },
  {
   "cell_type": "code",
   "execution_count": null,
   "id": "ae7ad8fc-d2ee-4de9-bdd9-cb6cda69005b",
   "metadata": {},
   "outputs": [],
   "source": []
  }
 ],
 "metadata": {
  "kernelspec": {
   "display_name": "Python 3 (ipykernel)",
   "language": "python",
   "name": "python3"
  },
  "language_info": {
   "codemirror_mode": {
    "name": "ipython",
    "version": 3
   },
   "file_extension": ".py",
   "mimetype": "text/x-python",
   "name": "python",
   "nbconvert_exporter": "python",
   "pygments_lexer": "ipython3",
   "version": "3.13.2"
  }
 },
 "nbformat": 4,
 "nbformat_minor": 5
}
