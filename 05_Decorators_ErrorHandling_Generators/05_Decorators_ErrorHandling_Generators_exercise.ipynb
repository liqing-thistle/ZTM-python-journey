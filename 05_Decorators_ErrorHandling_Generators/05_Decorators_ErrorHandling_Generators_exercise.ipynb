{
 "cells": [
  {
   "cell_type": "markdown",
   "id": "3cf96adc-0c8d-478e-a6fd-f0e57aa45cb3",
   "metadata": {},
   "source": [
    "### 05 Decorators, Error Handling, Generators_Exercise"
   ]
  },
  {
   "cell_type": "markdown",
   "id": "d093bea1-a95e-4ee3-ac92-38249bc0ffa6",
   "metadata": {},
   "source": [
    "#### 1. @authenticated \n",
    "- Create an @authenticated decorator that only allows the function to run is user1 has 'valid' set to True:\n",
    "```\n",
    "user1 = {\n",
    "    'name': 'Sorna',\n",
    "    'valid': True #changing this will either run or not run the message_friends function.\n",
    "}\n",
    "```"
   ]
  },
  {
   "cell_type": "code",
   "execution_count": 6,
   "id": "378ca14e-e1c4-4f8f-a578-accf5be6b21c",
   "metadata": {},
   "outputs": [
    {
     "name": "stdout",
     "output_type": "stream",
     "text": [
      "invalid user\n"
     ]
    }
   ],
   "source": [
    "user1 = {\n",
    "    'name': 'Sorna',\n",
    "    'valid': False\n",
    "}\n",
    "\n",
    "def authenticated(fn):\n",
    "    def wrapper(*args, **kwargs):\n",
    "        if args[0]['valid'] == True:\n",
    "            return fn(*args, **kwargs)\n",
    "        else:\n",
    "            print('invalid user')\n",
    "    return wrapper\n",
    "\n",
    "@authenticated\n",
    "def message_friends(user):\n",
    "    print('message has been sent')\n",
    "\n",
    "\n",
    "message_friends(user1)"
   ]
  },
  {
   "cell_type": "code",
   "execution_count": null,
   "id": "44907451-783d-4775-9687-1124669769c1",
   "metadata": {},
   "outputs": [],
   "source": []
  },
  {
   "cell_type": "code",
   "execution_count": null,
   "id": "91374739-5e20-426e-aea8-318a01ccc0bb",
   "metadata": {},
   "outputs": [],
   "source": []
  }
 ],
 "metadata": {
  "kernelspec": {
   "display_name": "Python 3 (ipykernel)",
   "language": "python",
   "name": "python3"
  },
  "language_info": {
   "codemirror_mode": {
    "name": "ipython",
    "version": 3
   },
   "file_extension": ".py",
   "mimetype": "text/x-python",
   "name": "python",
   "nbconvert_exporter": "python",
   "pygments_lexer": "ipython3",
   "version": "3.13.2"
  }
 },
 "nbformat": 4,
 "nbformat_minor": 5
}
