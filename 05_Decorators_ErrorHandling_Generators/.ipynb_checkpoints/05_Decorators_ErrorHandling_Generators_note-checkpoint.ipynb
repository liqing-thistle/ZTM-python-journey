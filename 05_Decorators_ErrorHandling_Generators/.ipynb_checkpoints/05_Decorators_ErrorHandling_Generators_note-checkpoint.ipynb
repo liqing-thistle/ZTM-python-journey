{
 "cells": [
  {
   "cell_type": "markdown",
   "id": "693a2c6f-3a57-4080-9e82-adf485698c8e",
   "metadata": {},
   "source": [
    "### 05 Decorators, Error Handling, Generators"
   ]
  },
  {
   "cell_type": "markdown",
   "id": "dc70e790-087d-4a89-a17e-bdf8ec818162",
   "metadata": {},
   "source": [
    "#### 1. Decorators\n",
    "- A **decorator** is a **function that wraps another function (or class)** to modify or extend its behavior, without changing its source code.\n",
    "  ```\n",
    "  @decorator_func\n",
    "  def original_func():\n",
    "  ```\n",
    "  <br>\n",
    "- a **wrapper function** `wrap_func` must be defined and returned from a decorator.\n",
    "  \n",
    "- Higher Order Function(HOC):\n",
    "  - accepts another function as parameter\n",
    "  - or returns another function"
   ]
  },
  {
   "cell_type": "code",
   "execution_count": 6,
   "id": "5aae84e4-b9d4-48d4-a313-3d055eb30663",
   "metadata": {},
   "outputs": [
    {
     "name": "stdout",
     "output_type": "stream",
     "text": [
      "Before the function runs\n",
      "hello\n",
      "After the function runs\n"
     ]
    }
   ],
   "source": [
    "# decorator\n",
    "\n",
    "def my_decorator(func):  # my_decorator func takes hello() as argument.\n",
    "    def wrap_func(*args, **kwargs): # define a wrapper function: run some extra code before and after hello()\n",
    "        print('Before the function runs')\n",
    "        func(*args, **kwargs)\n",
    "        print('After the function runs')\n",
    "    return wrap_func\n",
    "\n",
    "@my_decorator\n",
    "def hello():\n",
    "    print('hello')\n",
    "\n",
    "hello()\n"
   ]
  },
  {
   "cell_type": "code",
   "execution_count": 12,
   "id": "79b030a5-75f5-408f-adea-00cfa0f0c0b1",
   "metadata": {},
   "outputs": [
    {
     "name": "stdout",
     "output_type": "stream",
     "text": [
      "took 1.5497207641601562e-05 s\n"
     ]
    }
   ],
   "source": [
    "# performence\n",
    "from time import time\n",
    "def performance(func):\n",
    "    def wrapper(*args, **kwargs):\n",
    "        t1 = time()\n",
    "        result = func(*args, **kwargs)\n",
    "        t2 = time()\n",
    "        print(f'took {t2-t1} s')\n",
    "        return result\n",
    "    return wrapper\n",
    "\n",
    "        \n",
    "@performance\n",
    "def run_time():\n",
    "    for i in range(100):\n",
    "        i*5\n",
    "\n",
    "run_time()"
   ]
  },
  {
   "cell_type": "markdown",
   "id": "8d56a6e8-79d7-4430-a821-1bc02e014014",
   "metadata": {},
   "source": [
    "&nbsp;"
   ]
  },
  {
   "cell_type": "markdown",
   "id": "1cb003ce-732b-4e05-96bc-92f5dd320b86",
   "metadata": {},
   "source": [
    "#### 2. Error handling\n",
    "- An **exception**: an error that happens during the execution of a program.\n",
    "- **Error handling**: make programs continue running even with an error.\n",
    "- **try...except**: <br>\n",
    "      `try:` <br>\n",
    "      *# code that might raise an error*<br>\n",
    "      `except SomeError:`<br>\n",
    "      *# code to run if an error occurs*<br>\n",
    "      \n",
    "      "
   ]
  },
  {
   "cell_type": "code",
   "execution_count": 13,
   "id": "b10c7f10-3a5c-438d-b9ab-6ea185deaa24",
   "metadata": {},
   "outputs": [
    {
     "name": "stdin",
     "output_type": "stream",
     "text": [
      "what is your age?:  kk\n"
     ]
    },
    {
     "name": "stdout",
     "output_type": "stream",
     "text": [
      "please enter a integer.\n"
     ]
    },
    {
     "name": "stdin",
     "output_type": "stream",
     "text": [
      "what is your age?:  10\n"
     ]
    },
    {
     "name": "stdout",
     "output_type": "stream",
     "text": [
      "10\n",
      "thank you!\n"
     ]
    }
   ],
   "source": [
    "# try except\n",
    "while True:\n",
    "    try: # always runs at first\n",
    "        age = int(input('what is your age?: '))\n",
    "        print(age)\n",
    "    except: # runs if an error/exception occurs in `try`\n",
    "        print('please enter a integer.')\n",
    "    else: # runs only if no error/exception\n",
    "        print('thank you!')\n",
    "        break"
   ]
  },
  {
   "cell_type": "code",
   "execution_count": null,
   "id": "1f6be393-6f07-4157-b338-61280eab4813",
   "metadata": {},
   "outputs": [],
   "source": []
  },
  {
   "cell_type": "code",
   "execution_count": null,
   "id": "b55c1357-a7a3-413f-a043-cf469a3f72cb",
   "metadata": {},
   "outputs": [],
   "source": []
  }
 ],
 "metadata": {
  "kernelspec": {
   "display_name": "Python 3 (ipykernel)",
   "language": "python",
   "name": "python3"
  },
  "language_info": {
   "codemirror_mode": {
    "name": "ipython",
    "version": 3
   },
   "file_extension": ".py",
   "mimetype": "text/x-python",
   "name": "python",
   "nbconvert_exporter": "python",
   "pygments_lexer": "ipython3",
   "version": "3.13.2"
  }
 },
 "nbformat": 4,
 "nbformat_minor": 5
}
